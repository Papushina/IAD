{
 "cells": [
  {
   "cell_type": "code",
   "execution_count": 1,
   "metadata": {},
   "outputs": [
    {
     "ename": "ModuleNotFoundError",
     "evalue": "No module named 'pandas'",
     "output_type": "error",
     "traceback": [
      "\u001b[1;31m---------------------------------------------------------------------------\u001b[0m",
      "\u001b[1;31mModuleNotFoundError\u001b[0m                       Traceback (most recent call last)",
      "\u001b[1;32md:\\Aida\\Desktop\\ІАД\\Papushyna_iad\\laba1\\laba1.ipynb Cell 1\u001b[0m line \u001b[0;36m1\n\u001b[1;32m----> <a href='vscode-notebook-cell:/d%3A/Aida/Desktop/%D0%86%D0%90%D0%94/Papushyna_iad/laba1/laba1.ipynb#W0sZmlsZQ%3D%3D?line=0'>1</a>\u001b[0m \u001b[39mimport\u001b[39;00m \u001b[39mpandas\u001b[39;00m \u001b[39mas\u001b[39;00m \u001b[39mpd\u001b[39;00m\n\u001b[0;32m      <a href='vscode-notebook-cell:/d%3A/Aida/Desktop/%D0%86%D0%90%D0%94/Papushyna_iad/laba1/laba1.ipynb#W0sZmlsZQ%3D%3D?line=2'>3</a>\u001b[0m movies \u001b[39m=\u001b[39m pd\u001b[39m.\u001b[39mread_csv(\u001b[39m\"\u001b[39m\u001b[39mmovies.dat\u001b[39m\u001b[39m\"\u001b[39m, sep\u001b[39m=\u001b[39m\u001b[39m\"\u001b[39m\u001b[39m::\u001b[39m\u001b[39m\"\u001b[39m, names\u001b[39m=\u001b[39m[\u001b[39m\"\u001b[39m\u001b[39mmovieId\u001b[39m\u001b[39m\"\u001b[39m, \u001b[39m\"\u001b[39m\u001b[39mtitle\u001b[39m\u001b[39m\"\u001b[39m, \u001b[39m\"\u001b[39m\u001b[39mgenres\u001b[39m\u001b[39m\"\u001b[39m])\n\u001b[0;32m      <a href='vscode-notebook-cell:/d%3A/Aida/Desktop/%D0%86%D0%90%D0%94/Papushyna_iad/laba1/laba1.ipynb#W0sZmlsZQ%3D%3D?line=4'>5</a>\u001b[0m ratings \u001b[39m=\u001b[39m pd\u001b[39m.\u001b[39mread_csv(\u001b[39m\"\u001b[39m\u001b[39mratings.dat\u001b[39m\u001b[39m\"\u001b[39m, sep\u001b[39m=\u001b[39m\u001b[39m\"\u001b[39m\u001b[39m::\u001b[39m\u001b[39m\"\u001b[39m, names\u001b[39m=\u001b[39m[\u001b[39m\"\u001b[39m\u001b[39muserId\u001b[39m\u001b[39m\"\u001b[39m, \u001b[39m\"\u001b[39m\u001b[39mmovieId\u001b[39m\u001b[39m\"\u001b[39m, \u001b[39m\"\u001b[39m\u001b[39mrating\u001b[39m\u001b[39m\"\u001b[39m, \u001b[39m\"\u001b[39m\u001b[39mtimestamp\u001b[39m\u001b[39m\"\u001b[39m])\n",
      "\u001b[1;31mModuleNotFoundError\u001b[0m: No module named 'pandas'"
     ]
    }
   ],
   "source": [
    "import pandas as pd\n",
    "\n",
    "movies = pd.read_csv(\"movies.dat\", sep=\"::\", names=[\"movieId\", \"title\", \"genres\"])\n",
    "\n",
    "ratings = pd.read_csv(\"ratings.dat\", sep=\"::\", names=[\"userId\", \"movieId\", \"rating\", \"timestamp\"])\n",
    "\n",
    "users = pd.read_csv(\"users.dat\", sep=\"::\", names=[\"userId\", \"gender\", \"age\", \"occupation\", \"zipCode\"])"
   ]
  },
  {
   "cell_type": "code",
   "execution_count": null,
   "metadata": {},
   "outputs": [
    {
     "ename": "NameError",
     "evalue": "name 'ratings' is not defined",
     "output_type": "error",
     "traceback": [
      "\u001b[1;31m---------------------------------------------------------------------------\u001b[0m",
      "\u001b[1;31mNameError\u001b[0m                                 Traceback (most recent call last)",
      "\u001b[1;32md:\\Aida\\Desktop\\ІАД\\Papushyna_iad\\laba1\\laba1.ipynb Cell 2\u001b[0m line \u001b[0;36m2\n\u001b[0;32m      <a href='vscode-notebook-cell:/d%3A/Aida/Desktop/%D0%86%D0%90%D0%94/Papushyna_iad/laba1/laba1.ipynb#W2sZmlsZQ%3D%3D?line=0'>1</a>\u001b[0m \u001b[39m# З'єднуємо дані про фільми та рейтинги\u001b[39;00m\n\u001b[1;32m----> <a href='vscode-notebook-cell:/d%3A/Aida/Desktop/%D0%86%D0%90%D0%94/Papushyna_iad/laba1/laba1.ipynb#W2sZmlsZQ%3D%3D?line=1'>2</a>\u001b[0m df \u001b[39m=\u001b[39m ratings\u001b[39m.\u001b[39mmerge(movies, on\u001b[39m=\u001b[39m\u001b[39m\"\u001b[39m\u001b[39mmovieId\u001b[39m\u001b[39m\"\u001b[39m)\n\u001b[0;32m      <a href='vscode-notebook-cell:/d%3A/Aida/Desktop/%D0%86%D0%90%D0%94/Papushyna_iad/laba1/laba1.ipynb#W2sZmlsZQ%3D%3D?line=3'>4</a>\u001b[0m \u001b[39m# З'єднуємо дані про користувачів та df\u001b[39;00m\n\u001b[0;32m      <a href='vscode-notebook-cell:/d%3A/Aida/Desktop/%D0%86%D0%90%D0%94/Papushyna_iad/laba1/laba1.ipynb#W2sZmlsZQ%3D%3D?line=4'>5</a>\u001b[0m df \u001b[39m=\u001b[39m df\u001b[39m.\u001b[39mmerge(users, on\u001b[39m=\u001b[39m\u001b[39m\"\u001b[39m\u001b[39muserId\u001b[39m\u001b[39m\"\u001b[39m)\n",
      "\u001b[1;31mNameError\u001b[0m: name 'ratings' is not defined"
     ]
    }
   ],
   "source": [
    "df = ratings.merge(movies, on=\"movieId\")\n",
    "\n",
    "df = df.merge(users, on=\"userId\")"
   ]
  },
  {
   "cell_type": "code",
   "execution_count": null,
   "metadata": {},
   "outputs": [],
   "source": [
    "age_groups = {\n",
    "    1: \"18-24\",\n",
    "    2: \"25-34\",\n",
    "    3: \"35-44\",\n",
    "    4: \"45-54\",\n",
    "    5: \"55-64\",\n",
    "    6: \"65+\",\n",
    "}\n",
    "\n",
    "for gender in [\"M\", \"F\"]:\n",
    "    for age_group in age_groups.values():\n",
    "        top_10 = df[df[\"gender\"] == gender].groupby(\"age\").rating.nlargest(10)\n",
    "        print(f\"Top-10 фільмів за рейтингом серед {gender} у віковій групі {age_group}\")\n",
    "        print(top_10)"
   ]
  },
  {
   "cell_type": "code",
   "execution_count": null,
   "metadata": {},
   "outputs": [],
   "source": [
    "import seaborn as sns\n",
    "\n",
    "plt.figure(figsize=(10, 6))\n",
    "sns.barplot(x=top_10.index, y=top_10.values)\n",
    "plt.title(\"Top-10 фільмів за рейтингом серед чоловіків у віковій групі 25-34\")\n",
    "plt.show()"
   ]
  }
 ],
 "metadata": {
  "kernelspec": {
   "display_name": "Python 3",
   "language": "python",
   "name": "python3"
  },
  "language_info": {
   "codemirror_mode": {
    "name": "ipython",
    "version": 3
   },
   "file_extension": ".py",
   "mimetype": "text/x-python",
   "name": "python",
   "nbconvert_exporter": "python",
   "pygments_lexer": "ipython3",
   "version": "3.10.13"
  }
 },
 "nbformat": 4,
 "nbformat_minor": 2
}
