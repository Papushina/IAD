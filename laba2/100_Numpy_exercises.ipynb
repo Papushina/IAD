{
 "cells": [
  {
   "cell_type": "markdown",
   "id": "f44a2f2b",
   "metadata": {},
   "source": [
    "# 100 numpy exercises\n",
    "\n",
    "This is a collection of exercises that have been collected in the numpy mailing list, on stack overflow\n",
    "and in the numpy documentation. The goal of this collection is to offer a quick reference for both old\n",
    "and new users but also to provide a set of exercises for those who teach."
   ]
  },
  {
   "cell_type": "markdown",
   "id": "96443564",
   "metadata": {},
   "source": [
    "#### 1. Import the numpy package under the name `np` (★☆☆)"
   ]
  },
  {
   "cell_type": "code",
   "execution_count": 29,
   "id": "ffe1047e",
   "metadata": {},
   "outputs": [],
   "source": [
    "import numpy as np"
   ]
  },
  {
   "cell_type": "markdown",
   "id": "c807bf1d",
   "metadata": {},
   "source": [
    "#### 2. Print the numpy version and the configuration (★☆☆)"
   ]
  },
  {
   "cell_type": "code",
   "execution_count": 30,
   "id": "f396b717",
   "metadata": {},
   "outputs": [
    {
     "name": "stdout",
     "output_type": "stream",
     "text": [
      "NumPy Version: 1.26.1\n",
      "NumPy Configuration:\n",
      "Build Dependencies:\n",
      "  blas:\n",
      "    detection method: pkgconfig\n",
      "    found: true\n",
      "    include directory: /c/opt/64/include\n",
      "    lib directory: /c/opt/64/lib\n",
      "    name: openblas64\n",
      "    openblas configuration: USE_64BITINT=1 DYNAMIC_ARCH=1 DYNAMIC_OLDER= NO_CBLAS=\n",
      "      NO_LAPACK= NO_LAPACKE= NO_AFFINITY=1 USE_OPENMP= SKYLAKEX MAX_THREADS=2\n",
      "    pc file directory: C:/opt/64/lib/pkgconfig\n",
      "    version: 0.3.23.dev\n",
      "  lapack:\n",
      "    detection method: internal\n",
      "    found: true\n",
      "    include directory: unknown\n",
      "    lib directory: unknown\n",
      "    name: dep2300277146320\n",
      "    openblas configuration: unknown\n",
      "    pc file directory: unknown\n",
      "    version: 1.26.1\n",
      "Compilers:\n",
      "  c:\n",
      "    commands: cl\n",
      "    linker: link\n",
      "    name: msvc\n",
      "    version: 19.29.30152\n",
      "  c++:\n",
      "    commands: cl\n",
      "    linker: link\n",
      "    name: msvc\n",
      "    version: 19.29.30152\n",
      "  cython:\n",
      "    commands: cython\n",
      "    linker: cython\n",
      "    name: cython\n",
      "    version: 3.0.3\n",
      "Machine Information:\n",
      "  build:\n",
      "    cpu: x86_64\n",
      "    endian: little\n",
      "    family: x86_64\n",
      "    system: windows\n",
      "  host:\n",
      "    cpu: x86_64\n",
      "    endian: little\n",
      "    family: x86_64\n",
      "    system: windows\n",
      "Python Information:\n",
      "  path: C:\\Users\\runneradmin\\AppData\\Local\\Temp\\cibw-run-yh7ulkgn\\cp311-win_amd64\\build\\venv\\Scripts\\python.exe\n",
      "  version: '3.11'\n",
      "SIMD Extensions:\n",
      "  baseline:\n",
      "  - SSE\n",
      "  - SSE2\n",
      "  - SSE3\n",
      "  found:\n",
      "  - SSSE3\n",
      "  - SSE41\n",
      "  - POPCNT\n",
      "  - SSE42\n",
      "  - AVX\n",
      "  - F16C\n",
      "  - FMA3\n",
      "  - AVX2\n",
      "  not found:\n",
      "  - AVX512F\n",
      "  - AVX512CD\n",
      "  - AVX512_SKX\n",
      "  - AVX512_CLX\n",
      "  - AVX512_CNL\n",
      "  - AVX512_ICL\n",
      "\n",
      "None\n"
     ]
    }
   ],
   "source": [
    "print(\"NumPy Version:\", np.__version__)\n",
    "\n",
    "print(\"NumPy Configuration:\")\n",
    "print(np.show_config())"
   ]
  },
  {
   "cell_type": "markdown",
   "id": "572c1bdb",
   "metadata": {},
   "source": [
    "#### 3. Create a null vector of size 10 (★☆☆)"
   ]
  },
  {
   "cell_type": "code",
   "execution_count": 31,
   "id": "31c9f6a5",
   "metadata": {},
   "outputs": [
    {
     "name": "stdout",
     "output_type": "stream",
     "text": [
      "Null Vector:\n",
      "[0. 0. 0. 0. 0. 0. 0. 0. 0. 0.]\n"
     ]
    }
   ],
   "source": [
    "null_vector = np.zeros(10)\n",
    "\n",
    "print(\"Null Vector:\")\n",
    "print(null_vector)"
   ]
  },
  {
   "cell_type": "markdown",
   "id": "337e6e36",
   "metadata": {},
   "source": [
    "#### 4. How to find the memory size of any array (★☆☆)"
   ]
  },
  {
   "cell_type": "code",
   "execution_count": 32,
   "id": "31e8ec2e",
   "metadata": {},
   "outputs": [
    {
     "name": "stdout",
     "output_type": "stream",
     "text": [
      "Memory size of the array: 80 bytes\n"
     ]
    }
   ],
   "source": [
    "memory_size = null_vector.nbytes\n",
    "\n",
    "print(f\"Memory size of the array: {memory_size} bytes\")"
   ]
  },
  {
   "cell_type": "markdown",
   "id": "166079c8",
   "metadata": {},
   "source": [
    "#### 5. How to get the documentation of the numpy add function from the command line? (★☆☆)"
   ]
  },
  {
   "cell_type": "code",
   "execution_count": 33,
   "id": "593cd80f",
   "metadata": {},
   "outputs": [
    {
     "name": "stdout",
     "output_type": "stream",
     "text": [
      "Help on ufunc:\n",
      "\n",
      "add = <ufunc 'add'>\n",
      "    add(x1, x2, /, out=None, *, where=True, casting='same_kind', order='K', dtype=None, subok=True[, signature, extobj])\n",
      "    \n",
      "    Add arguments element-wise.\n",
      "    \n",
      "    Parameters\n",
      "    ----------\n",
      "    x1, x2 : array_like\n",
      "        The arrays to be added.\n",
      "        If ``x1.shape != x2.shape``, they must be broadcastable to a common\n",
      "        shape (which becomes the shape of the output).\n",
      "    out : ndarray, None, or tuple of ndarray and None, optional\n",
      "        A location into which the result is stored. If provided, it must have\n",
      "        a shape that the inputs broadcast to. If not provided or None,\n",
      "        a freshly-allocated array is returned. A tuple (possible only as a\n",
      "        keyword argument) must have length equal to the number of outputs.\n",
      "    where : array_like, optional\n",
      "        This condition is broadcast over the input. At locations where the\n",
      "        condition is True, the `out` array will be set to the ufunc result.\n",
      "        Elsewhere, the `out` array will retain its original value.\n",
      "        Note that if an uninitialized `out` array is created via the default\n",
      "        ``out=None``, locations within it where the condition is False will\n",
      "        remain uninitialized.\n",
      "    **kwargs\n",
      "        For other keyword-only arguments, see the\n",
      "        :ref:`ufunc docs <ufuncs.kwargs>`.\n",
      "    \n",
      "    Returns\n",
      "    -------\n",
      "    add : ndarray or scalar\n",
      "        The sum of `x1` and `x2`, element-wise.\n",
      "        This is a scalar if both `x1` and `x2` are scalars.\n",
      "    \n",
      "    Notes\n",
      "    -----\n",
      "    Equivalent to `x1` + `x2` in terms of array broadcasting.\n",
      "    \n",
      "    Examples\n",
      "    --------\n",
      "    >>> np.add(1.0, 4.0)\n",
      "    5.0\n",
      "    >>> x1 = np.arange(9.0).reshape((3, 3))\n",
      "    >>> x2 = np.arange(3.0)\n",
      "    >>> np.add(x1, x2)\n",
      "    array([[  0.,   2.,   4.],\n",
      "           [  3.,   5.,   7.],\n",
      "           [  6.,   8.,  10.]])\n",
      "    \n",
      "    The ``+`` operator can be used as a shorthand for ``np.add`` on ndarrays.\n",
      "    \n",
      "    >>> x1 = np.arange(9.0).reshape((3, 3))\n",
      "    >>> x2 = np.arange(3.0)\n",
      "    >>> x1 + x2\n",
      "    array([[ 0.,  2.,  4.],\n",
      "           [ 3.,  5.,  7.],\n",
      "           [ 6.,  8., 10.]])\n",
      "\n"
     ]
    }
   ],
   "source": [
    "help(np.add)"
   ]
  },
  {
   "cell_type": "markdown",
   "id": "3add7101",
   "metadata": {},
   "source": [
    "#### 6. Create a null vector of size 10 but the fifth value which is 1 (★☆☆)"
   ]
  },
  {
   "cell_type": "code",
   "execution_count": 34,
   "id": "2edf3c42",
   "metadata": {},
   "outputs": [
    {
     "name": "stdout",
     "output_type": "stream",
     "text": [
      "Modified Null Vector:\n",
      "[0. 0. 0. 0. 1. 0. 0. 0. 0. 0.]\n"
     ]
    }
   ],
   "source": [
    "null_vector = np.zeros(10)\n",
    "null_vector[4] = 1\n",
    "\n",
    "print(\"Modified Null Vector:\")\n",
    "print(null_vector)"
   ]
  },
  {
   "cell_type": "markdown",
   "id": "cfc46304",
   "metadata": {},
   "source": [
    "#### 7. Create a vector with values ranging from 10 to 49 (★☆☆)"
   ]
  },
  {
   "cell_type": "code",
   "execution_count": 35,
   "id": "d8b86640",
   "metadata": {},
   "outputs": [
    {
     "name": "stdout",
     "output_type": "stream",
     "text": [
      "Vector:\n",
      "[10 11 12 13 14 15 16 17 18 19 20 21 22 23 24 25 26 27 28 29 30 31 32 33\n",
      " 34 35 36 37 38 39 40 41 42 43 44 45 46 47 48 49]\n"
     ]
    }
   ],
   "source": [
    "my_vector = np.arange(10, 50)\n",
    "\n",
    "print(\"Vector:\")\n",
    "print(my_vector)"
   ]
  },
  {
   "cell_type": "markdown",
   "id": "0cc200be",
   "metadata": {},
   "source": [
    "#### 8. Reverse a vector (first element becomes last) (★☆☆)"
   ]
  },
  {
   "cell_type": "code",
   "execution_count": 36,
   "id": "ec044bb5",
   "metadata": {},
   "outputs": [
    {
     "name": "stdout",
     "output_type": "stream",
     "text": [
      "\n",
      "Reversed Vector:\n",
      "[49 48 47 46 45 44 43 42 41 40 39 38 37 36 35 34 33 32 31 30 29 28 27 26\n",
      " 25 24 23 22 21 20 19 18 17 16 15 14 13 12 11 10]\n"
     ]
    }
   ],
   "source": [
    "reversed_vector = my_vector[::-1]\n",
    "\n",
    "print(\"\\nReversed Vector:\")\n",
    "print(reversed_vector)"
   ]
  },
  {
   "cell_type": "markdown",
   "id": "29d9ede4",
   "metadata": {},
   "source": [
    "#### 9. Create a 3x3 matrix with values ranging from 0 to 8 (★☆☆)"
   ]
  },
  {
   "cell_type": "code",
   "execution_count": 37,
   "id": "d9e39043",
   "metadata": {},
   "outputs": [
    {
     "name": "stdout",
     "output_type": "stream",
     "text": [
      "3x3 Matrix:\n",
      "[[0 1 2]\n",
      " [3 4 5]\n",
      " [6 7 8]]\n"
     ]
    }
   ],
   "source": [
    "my_array = np.arange(9)\n",
    "\n",
    "my_matrix = my_array.reshape((3, 3))\n",
    "\n",
    "print(\"3x3 Matrix:\")\n",
    "print(my_matrix)"
   ]
  },
  {
   "cell_type": "markdown",
   "id": "88905ceb",
   "metadata": {},
   "source": [
    "#### 10. Find indices of non-zero elements from [1,2,0,0,4,0] (★☆☆)"
   ]
  },
  {
   "cell_type": "code",
   "execution_count": 38,
   "id": "b2f3c90a",
   "metadata": {},
   "outputs": [
    {
     "name": "stdout",
     "output_type": "stream",
     "text": [
      "Indices of Non-Zero Elements:\n",
      "(array([0, 1, 4], dtype=int64),)\n"
     ]
    }
   ],
   "source": [
    "my_array = np.array([1, 2, 0, 0, 4, 0])\n",
    "\n",
    "nonzero_indices = np.nonzero(my_array)\n",
    "\n",
    "print(\"Indices of Non-Zero Elements:\")\n",
    "print(nonzero_indices)"
   ]
  },
  {
   "cell_type": "markdown",
   "id": "49603e91",
   "metadata": {},
   "source": [
    "#### 11. Create a 3x3 identity matrix (★☆☆)"
   ]
  },
  {
   "cell_type": "code",
   "execution_count": 39,
   "id": "5b607b5c",
   "metadata": {},
   "outputs": [
    {
     "name": "stdout",
     "output_type": "stream",
     "text": [
      "3x3 Identity Matrix:\n",
      "[[1. 0. 0.]\n",
      " [0. 1. 0.]\n",
      " [0. 0. 1.]]\n"
     ]
    }
   ],
   "source": [
    "identity_matrix = np.eye(3)\n",
    "\n",
    "print(\"3x3 Identity Matrix:\")\n",
    "print(identity_matrix)"
   ]
  },
  {
   "cell_type": "markdown",
   "id": "e15c249a",
   "metadata": {},
   "source": [
    "#### 12. Create a 3x3x3 array with random values (★☆☆)"
   ]
  },
  {
   "cell_type": "code",
   "execution_count": 40,
   "id": "ab21ed50",
   "metadata": {},
   "outputs": [
    {
     "name": "stdout",
     "output_type": "stream",
     "text": [
      "3x3x3 Array with Random Values:\n",
      "[[[0.51732819 0.85751126 0.18699225]\n",
      "  [0.06110321 0.26964041 0.24036529]\n",
      "  [0.01072259 0.09149001 0.56085257]]\n",
      "\n",
      " [[0.43221392 0.45257714 0.09681625]\n",
      "  [0.10875827 0.19317573 0.77419654]\n",
      "  [0.39770908 0.46300802 0.08329336]]\n",
      "\n",
      " [[0.28724989 0.2326317  0.73341563]\n",
      "  [0.23056997 0.27800109 0.33950825]\n",
      "  [0.70514222 0.35009136 0.87844813]]]\n"
     ]
    }
   ],
   "source": [
    "random_array = np.random.rand(3, 3, 3)\n",
    "\n",
    "print(\"3x3x3 Array with Random Values:\")\n",
    "print(random_array)"
   ]
  },
  {
   "cell_type": "markdown",
   "id": "157a129c",
   "metadata": {},
   "source": [
    "#### 13. Create a 10x10 array with random values and find the minimum and maximum values (★☆☆)"
   ]
  },
  {
   "cell_type": "code",
   "execution_count": 41,
   "id": "c0066de5",
   "metadata": {},
   "outputs": [
    {
     "name": "stdout",
     "output_type": "stream",
     "text": [
      "10x10 Array with Random Values:\n",
      "[[0.34422691 0.09850754 0.23440164 0.01554354 0.7926543  0.89634659\n",
      "  0.04329723 0.61198653 0.30864124 0.02824058]\n",
      " [0.81576397 0.1393336  0.45627817 0.79686365 0.91775392 0.2805651\n",
      "  0.67367976 0.83258386 0.11235422 0.14569064]\n",
      " [0.1761884  0.16409658 0.36158598 0.15984208 0.18249693 0.74470513\n",
      "  0.83180525 0.02348117 0.475379   0.69823529]\n",
      " [0.98033619 0.24596388 0.01433855 0.01940169 0.46751654 0.83616268\n",
      "  0.17742378 0.00336797 0.67626993 0.02127155]\n",
      " [0.55223746 0.26955974 0.0434042  0.35308458 0.47039608 0.1949451\n",
      "  0.36884201 0.65354913 0.85909307 0.86937232]\n",
      " [0.13442414 0.17276928 0.51072589 0.77394117 0.88640902 0.97334852\n",
      "  0.33316215 0.65517363 0.75821997 0.01165541]\n",
      " [0.79247426 0.70912565 0.65317473 0.77111216 0.93840276 0.77761781\n",
      "  0.26381469 0.89592994 0.29590696 0.50873057]\n",
      " [0.34104466 0.42772304 0.43970226 0.10768442 0.32481784 0.74815737\n",
      "  0.33862867 0.64460274 0.0980561  0.99655148]\n",
      " [0.84519021 0.04161099 0.34092514 0.47365733 0.84788899 0.13680721\n",
      "  0.75738416 0.32921462 0.00592597 0.23610592]\n",
      " [0.47372249 0.47376618 0.03014266 0.67959336 0.04490024 0.97695722\n",
      "  0.57463035 0.50349846 0.78934547 0.99856842]]\n",
      "\n",
      "Minimum Value: 0.0033679749611704723\n",
      "Maximum Value: 0.9985684187605601\n"
     ]
    }
   ],
   "source": [
    "random_array = np.random.rand(10, 10)\n",
    "\n",
    "print(\"10x10 Array with Random Values:\")\n",
    "print(random_array)\n",
    "\n",
    "# Find the minimum and maximum values\n",
    "min_value = np.min(random_array)\n",
    "max_value = np.max(random_array)\n",
    "\n",
    "print(\"\\nMinimum Value:\", min_value)\n",
    "print(\"Maximum Value:\", max_value)"
   ]
  },
  {
   "cell_type": "markdown",
   "id": "d92d7b32",
   "metadata": {},
   "source": [
    "#### 14. Create a random vector of size 30 and find the mean value (★☆☆)"
   ]
  },
  {
   "cell_type": "code",
   "execution_count": 42,
   "id": "9672d023",
   "metadata": {},
   "outputs": [
    {
     "name": "stdout",
     "output_type": "stream",
     "text": [
      "Random Vector:\n",
      "[0.3223751  0.09380255 0.6777411  0.1032416  0.1356385  0.00152976\n",
      " 0.22028368 0.25682226 0.12245005 0.81307553 0.46120275 0.28895363\n",
      " 0.88229486 0.34687783 0.34659318 0.76756141 0.52515592 0.91636016\n",
      " 0.47236511 0.82632161 0.42271802 0.87844068 0.21189805 0.13514407\n",
      " 0.83259209 0.67122017 0.50021299 0.01736142 0.07009214 0.82555106]\n",
      "\n",
      "Mean Value: 0.4381959083182784\n"
     ]
    }
   ],
   "source": [
    "random_vector = np.random.rand(30)\n",
    "\n",
    "print(\"Random Vector:\")\n",
    "print(random_vector)\n",
    "\n",
    "mean_value = np.mean(random_vector)\n",
    "\n",
    "print(\"\\nMean Value:\", mean_value)"
   ]
  },
  {
   "cell_type": "markdown",
   "id": "f361efc0",
   "metadata": {},
   "source": [
    "#### 15. Create a 2d array with 1 on the border and 0 inside (★☆☆)"
   ]
  },
  {
   "cell_type": "code",
   "execution_count": 43,
   "id": "a55b6666",
   "metadata": {},
   "outputs": [
    {
     "name": "stdout",
     "output_type": "stream",
     "text": [
      "2D Array with 1 on the Border and 0 Inside:\n",
      "[[1. 1. 1. 1. 1.]\n",
      " [1. 0. 0. 0. 1.]\n",
      " [1. 0. 0. 0. 1.]\n",
      " [1. 0. 0. 0. 1.]\n",
      " [1. 1. 1. 1. 1.]]\n"
     ]
    }
   ],
   "source": [
    "rows, cols = 5, 5\n",
    "\n",
    "border_array = np.zeros((rows, cols))\n",
    "border_array[0, :] = 1  \n",
    "border_array[-1, :] = 1  \n",
    "border_array[:, 0] = 1  \n",
    "border_array[:, -1] = 1  \n",
    "\n",
    "print(\"2D Array with 1 on the Border and 0 Inside:\")\n",
    "print(border_array)"
   ]
  },
  {
   "cell_type": "markdown",
   "id": "475808cb",
   "metadata": {},
   "source": [
    "#### 16. How to add a border (filled with 0's) around an existing array? (★☆☆)"
   ]
  },
  {
   "cell_type": "code",
   "execution_count": 44,
   "id": "b2df3a8a",
   "metadata": {},
   "outputs": [
    {
     "name": "stdout",
     "output_type": "stream",
     "text": [
      "Existing Array:\n",
      "[[1 2 3]\n",
      " [4 5 6]\n",
      " [7 8 9]]\n",
      "\n",
      "Array with Border (Filled with 0's):\n",
      "[[0. 0. 0. 0. 0.]\n",
      " [0. 1. 2. 3. 0.]\n",
      " [0. 4. 5. 6. 0.]\n",
      " [0. 7. 8. 9. 0.]\n",
      " [0. 0. 0. 0. 0.]]\n"
     ]
    }
   ],
   "source": [
    "existing_array = np.array([[1, 2, 3],\n",
    "                           [4, 5, 6],\n",
    "                           [7, 8, 9]])\n",
    "\n",
    "rows, cols = existing_array.shape\n",
    "\n",
    "bordered_array = np.zeros((rows + 2, cols + 2))\n",
    "\n",
    "bordered_array[1:-1, 1:-1] = existing_array\n",
    "\n",
    "print(\"Existing Array:\")\n",
    "print(existing_array)\n",
    "\n",
    "print(\"\\nArray with Border (Filled with 0's):\")\n",
    "print(bordered_array)"
   ]
  },
  {
   "cell_type": "markdown",
   "id": "1af07d85",
   "metadata": {},
   "source": [
    "#### 17. What is the result of the following expression? (★☆☆)\n",
    "```python\n",
    "0 * np.nan\n",
    "np.nan == np.nan\n",
    "np.inf > np.nan\n",
    "np.nan - np.nan\n",
    "np.nan in set([np.nan])\n",
    "0.3 == 3 * 0.1\n",
    "```"
   ]
  },
  {
   "cell_type": "code",
   "execution_count": 45,
   "id": "109cf327",
   "metadata": {},
   "outputs": [
    {
     "name": "stdout",
     "output_type": "stream",
     "text": [
      "Result 1: nan\n",
      "Result 2: False\n",
      "Result 3: False\n",
      "Result 4: nan\n",
      "Result 5: True\n",
      "Result 6: False\n"
     ]
    }
   ],
   "source": [
    "result1 = 0 * np.nan\n",
    "result2 = np.nan == np.nan\n",
    "result3 = np.inf > np.nan\n",
    "result4 = np.nan - np.nan\n",
    "result5 = np.nan in set([np.nan])\n",
    "result6 = 0.3 == 3 * 0.1\n",
    "\n",
    "print(\"Result 1:\", result1)\n",
    "print(\"Result 2:\", result2)\n",
    "print(\"Result 3:\", result3)\n",
    "print(\"Result 4:\", result4)\n",
    "print(\"Result 5:\", result5)\n",
    "print(\"Result 6:\", result6)"
   ]
  },
  {
   "cell_type": "markdown",
   "id": "6a235316",
   "metadata": {},
   "source": [
    "#### 18. Create a 5x5 matrix with values 1,2,3,4 just below the diagonal (★☆☆)"
   ]
  },
  {
   "cell_type": "code",
   "execution_count": 46,
   "id": "f2e6cfa6",
   "metadata": {},
   "outputs": [
    {
     "name": "stdout",
     "output_type": "stream",
     "text": [
      "5x5 Matrix:\n",
      "[[0 0 0 0 0]\n",
      " [1 0 0 0 0]\n",
      " [0 2 0 0 0]\n",
      " [0 0 3 0 0]\n",
      " [0 0 0 4 0]]\n"
     ]
    }
   ],
   "source": [
    "matrix = np.diag([1, 2, 3, 4], k=-1)\n",
    "\n",
    "print(\"5x5 Matrix:\")\n",
    "print(matrix)"
   ]
  },
  {
   "cell_type": "markdown",
   "id": "25362e98",
   "metadata": {},
   "source": [
    "#### 19. Create a 8x8 matrix and fill it with a checkerboard pattern (★☆☆)"
   ]
  },
  {
   "cell_type": "code",
   "execution_count": 47,
   "id": "cabdf298",
   "metadata": {},
   "outputs": [
    {
     "name": "stdout",
     "output_type": "stream",
     "text": [
      "Checkerboard Matrix:\n",
      "[[0 1 0 1 0 1 0 1]\n",
      " [1 0 1 0 1 0 1 0]\n",
      " [0 1 0 1 0 1 0 1]\n",
      " [1 0 1 0 1 0 1 0]\n",
      " [0 1 0 1 0 1 0 1]\n",
      " [1 0 1 0 1 0 1 0]\n",
      " [0 1 0 1 0 1 0 1]\n",
      " [1 0 1 0 1 0 1 0]]\n"
     ]
    }
   ],
   "source": [
    "checkerboard_matrix = np.zeros((8, 8), dtype=int)\n",
    "\n",
    "# Fill the checkerboard pattern\n",
    "checkerboard_matrix[1::2, ::2] = 1\n",
    "checkerboard_matrix[::2, 1::2] = 1\n",
    "\n",
    "print(\"Checkerboard Matrix:\")\n",
    "print(checkerboard_matrix)"
   ]
  },
  {
   "cell_type": "markdown",
   "id": "6431e977",
   "metadata": {},
   "source": [
    "#### 20. Consider a (6,7,8) shape array, what is the index (x,y,z) of the 100th element? (★☆☆)"
   ]
  },
  {
   "cell_type": "code",
   "execution_count": 48,
   "id": "de8b0245",
   "metadata": {},
   "outputs": [
    {
     "name": "stdout",
     "output_type": "stream",
     "text": [
      "Index (x, y, z) of the 100th element: (1, 5, 3)\n"
     ]
    }
   ],
   "source": [
    "array_shape = (6, 7, 8)\n",
    "total_elements = np.prod(array_shape)\n",
    "\n",
    "index_100th_element = np.unravel_index(99, array_shape)\n",
    "\n",
    "print(\"Index (x, y, z) of the 100th element:\", index_100th_element)"
   ]
  },
  {
   "cell_type": "markdown",
   "id": "31abe6fe",
   "metadata": {},
   "source": [
    "#### 21. Create a checkerboard 8x8 matrix using the tile function (★☆☆)"
   ]
  },
  {
   "cell_type": "code",
   "execution_count": 49,
   "id": "6da26fd3",
   "metadata": {},
   "outputs": [
    {
     "name": "stdout",
     "output_type": "stream",
     "text": [
      "Checkerboard Matrix:\n",
      "[[0 1 0 1 0 1 0 1]\n",
      " [1 0 1 0 1 0 1 0]\n",
      " [0 1 0 1 0 1 0 1]\n",
      " [1 0 1 0 1 0 1 0]\n",
      " [0 1 0 1 0 1 0 1]\n",
      " [1 0 1 0 1 0 1 0]\n",
      " [0 1 0 1 0 1 0 1]\n",
      " [1 0 1 0 1 0 1 0]]\n"
     ]
    }
   ],
   "source": [
    "checkerboard_tile = np.array([[0, 1], [1, 0]])\n",
    "\n",
    "checkerboard_matrix = np.tile(checkerboard_tile, (4, 4))\n",
    "\n",
    "print(\"Checkerboard Matrix:\")\n",
    "print(checkerboard_matrix)"
   ]
  },
  {
   "cell_type": "markdown",
   "id": "fd88b3f4",
   "metadata": {},
   "source": [
    "#### 22. Normalize a 5x5 random matrix (★☆☆)"
   ]
  },
  {
   "cell_type": "code",
   "execution_count": 50,
   "id": "ee6ced60",
   "metadata": {},
   "outputs": [
    {
     "name": "stdout",
     "output_type": "stream",
     "text": [
      "Original Random Matrix:\n",
      "[[0.81545334 0.18344757 0.72551352 0.70779855 0.90877689]\n",
      " [0.45247613 0.34777806 0.16319622 0.23788855 0.20700539]\n",
      " [0.49661264 0.16392026 0.53568084 0.10339753 0.33179802]\n",
      " [0.09808273 0.72936749 0.22226122 0.67498572 0.54474627]\n",
      " [0.43262094 0.38821905 0.73414385 0.63366178 0.36140185]]\n",
      "\n",
      "Normalized Matrix:\n",
      "[[ 1.54211275 -1.11033018  1.16464743  1.09030009  1.93377909]\n",
      " [ 0.01874637 -0.42065729 -1.19532239 -0.88184875 -1.01146119]\n",
      " [ 0.20398134 -1.19228368  0.36794532 -1.44628943 -0.48772339]\n",
      " [-1.46859492  1.18082202 -0.94743454  0.95258907  0.40599169]\n",
      " [-0.06458319 -0.25093194  1.20086776  0.77915807 -0.3634801 ]]\n"
     ]
    }
   ],
   "source": [
    "random_matrix = np.random.rand(5, 5)\n",
    "\n",
    "print(\"Original Random Matrix:\")\n",
    "print(random_matrix)\n",
    "\n",
    "normalized_matrix = (random_matrix - np.mean(random_matrix)) / np.std(random_matrix)\n",
    "\n",
    "print(\"\\nNormalized Matrix:\")\n",
    "print(normalized_matrix)"
   ]
  },
  {
   "cell_type": "markdown",
   "id": "464d8590",
   "metadata": {},
   "source": [
    "#### 23. Create a custom dtype that describes a color as four unsigned bytes (RGBA) (★☆☆)"
   ]
  },
  {
   "cell_type": "code",
   "execution_count": 51,
   "id": "e2f9cfc6",
   "metadata": {},
   "outputs": [
    {
     "name": "stdout",
     "output_type": "stream",
     "text": [
      "Custom RGBA Color Array:\n",
      "[(255,   0,   0, 255) (  0, 255,   0, 255) (  0,   0, 255, 255)]\n"
     ]
    }
   ],
   "source": [
    "color_dtype = np.dtype([('R', np.ubyte), ('G', np.ubyte), ('B', np.ubyte), ('A', np.ubyte)])\n",
    "\n",
    "# Create an array with the custom dtype\n",
    "color_array = np.array([(255, 0, 0, 255), (0, 255, 0, 255), (0, 0, 255, 255)], dtype=color_dtype)\n",
    "\n",
    "print(\"Custom RGBA Color Array:\")\n",
    "print(color_array)"
   ]
  },
  {
   "cell_type": "markdown",
   "id": "06c63bb3",
   "metadata": {},
   "source": [
    "#### 24. Multiply a 5x3 matrix by a 3x2 matrix (real matrix product) (★☆☆)"
   ]
  },
  {
   "cell_type": "code",
   "execution_count": 52,
   "id": "9fc0d553",
   "metadata": {},
   "outputs": [
    {
     "name": "stdout",
     "output_type": "stream",
     "text": [
      "Matrix A (5x3):\n",
      "[[0.17321432 0.28794747 0.93343185]\n",
      " [0.54499663 0.37791346 0.34898584]\n",
      " [0.4919691  0.03603837 0.71928463]\n",
      " [0.45910679 0.72098092 0.02936486]\n",
      " [0.70883242 0.55187352 0.1307717 ]]\n",
      "\n",
      "Matrix B (3x2):\n",
      "[[0.32073024 0.74005376]\n",
      " [0.37368504 0.76610404]\n",
      " [0.71340365 0.37318522]]\n",
      "\n",
      "Result Matrix (5x2):\n",
      "[[0.82907042 0.6971286 ]\n",
      " [0.56498528 0.82308419]\n",
      " [0.68439664 0.66011911]\n",
      " [0.43761821 0.90306863]\n",
      " [0.52686388 0.99616869]]\n"
     ]
    }
   ],
   "source": [
    "matrix_a = np.random.rand(5, 3)\n",
    "\n",
    "matrix_b = np.random.rand(3, 2)\n",
    "\n",
    "result_matrix = np.dot(matrix_a, matrix_b)\n",
    "\n",
    "print(\"Matrix A (5x3):\")\n",
    "print(matrix_a)\n",
    "\n",
    "print(\"\\nMatrix B (3x2):\")\n",
    "print(matrix_b)\n",
    "\n",
    "print(\"\\nResult Matrix (5x2):\")\n",
    "print(result_matrix)"
   ]
  },
  {
   "cell_type": "markdown",
   "id": "76fa6285",
   "metadata": {},
   "source": [
    "#### 25. Given a 1D array, negate all elements which are between 3 and 8, in place. (★☆☆)"
   ]
  },
  {
   "cell_type": "code",
   "execution_count": 53,
   "id": "0e25eca7",
   "metadata": {},
   "outputs": [
    {
     "name": "stdout",
     "output_type": "stream",
     "text": [
      "Modified 1D Array:\n",
      "[ 1 -5 -4 -7  2  9 -6 -3 -8]\n"
     ]
    }
   ],
   "source": [
    "array_1d = np.array([1, 5, 4, 7, 2, 9, 6, 3, 8])\n",
    "\n",
    "array_1d[(array_1d >= 3) & (array_1d <= 8)] *= -1\n",
    "\n",
    "print(\"Modified 1D Array:\")\n",
    "print(array_1d)"
   ]
  },
  {
   "cell_type": "markdown",
   "id": "930ed8bb",
   "metadata": {},
   "source": [
    "#### 26. What is the output of the following script? (★☆☆)\n",
    "```python\n",
    "# Author: Jake VanderPlas\n",
    "\n",
    "print(sum(range(5),-1))\n",
    "from numpy import *\n",
    "print(sum(range(5),-1))\n",
    "```"
   ]
  },
  {
   "cell_type": "code",
   "execution_count": 54,
   "id": "f02eedba",
   "metadata": {},
   "outputs": [
    {
     "name": "stdout",
     "output_type": "stream",
     "text": [
      "10\n",
      "10\n"
     ]
    }
   ],
   "source": [
    "print(sum(range(5),-1))\n",
    "from numpy import *\n",
    "print(sum(range(5),-1))"
   ]
  },
  {
   "cell_type": "markdown",
   "id": "177120e7",
   "metadata": {},
   "source": [
    "#### 27. Consider an integer vector Z, which of these expressions are legal? (★☆☆)\n",
    "```python\n",
    "Z**Z\n",
    "2 << Z >> 2\n",
    "Z <- Z\n",
    "1j*Z\n",
    "Z/1/1\n",
    "Z<Z>Z\n",
    "```"
   ]
  },
  {
   "cell_type": "code",
   "execution_count": 55,
   "id": "86d6cbef",
   "metadata": {},
   "outputs": [
    {
     "ename": "ValueError",
     "evalue": "The truth value of an array with more than one element is ambiguous. Use a.any() or a.all()",
     "output_type": "error",
     "traceback": [
      "\u001b[1;31m---------------------------------------------------------------------------\u001b[0m",
      "\u001b[1;31mValueError\u001b[0m                                Traceback (most recent call last)",
      "\u001b[1;32md:\\iad\\100_Numpy_exercises.ipynb Cell 55\u001b[0m line \u001b[0;36m1\n\u001b[0;32m      <a href='vscode-notebook-cell:/d%3A/iad/100_Numpy_exercises.ipynb#Y105sZmlsZQ%3D%3D?line=8'>9</a>\u001b[0m expression4 \u001b[39m=\u001b[39m \u001b[39m1\u001b[39mj\u001b[39m*\u001b[39mZ  \u001b[39m# Legal:\u001b[39;00m\n\u001b[0;32m     <a href='vscode-notebook-cell:/d%3A/iad/100_Numpy_exercises.ipynb#Y105sZmlsZQ%3D%3D?line=10'>11</a>\u001b[0m expression5 \u001b[39m=\u001b[39m Z\u001b[39m/\u001b[39m\u001b[39m1\u001b[39m\u001b[39m/\u001b[39m\u001b[39m1\u001b[39m  \u001b[39m# Legal\u001b[39;00m\n\u001b[1;32m---> <a href='vscode-notebook-cell:/d%3A/iad/100_Numpy_exercises.ipynb#Y105sZmlsZQ%3D%3D?line=12'>13</a>\u001b[0m expression6 \u001b[39m=\u001b[39m Z\u001b[39m<\u001b[39mZ\u001b[39m>\u001b[39mZ  \u001b[39m# Not legal\u001b[39;00m\n",
      "\u001b[1;31mValueError\u001b[0m: The truth value of an array with more than one element is ambiguous. Use a.any() or a.all()"
     ]
    }
   ],
   "source": [
    "Z = np.array([1, 2, 3])\n",
    "\n",
    "expression1 = Z**Z  # Legal\n",
    "\n",
    "expression2 = 2 << Z >> 2  # Legal\n",
    "\n",
    "expression3 = Z <- Z  # Legal\n",
    "\n",
    "expression4 = 1j*Z  # Legal:\n",
    "\n",
    "expression5 = Z/1/1  # Legal\n",
    "\n",
    "expression6 = Z<Z>Z  # Not legal"
   ]
  },
  {
   "cell_type": "markdown",
   "id": "a6eaf0e8",
   "metadata": {},
   "source": [
    "#### 28. What are the result of the following expressions? (★☆☆)\n",
    "```python\n",
    "np.array(0) / np.array(0)\n",
    "np.array(0) // np.array(0)\n",
    "np.array([np.nan]).astype(int).astype(float)\n",
    "```"
   ]
  },
  {
   "cell_type": "code",
   "execution_count": null,
   "id": "93684068",
   "metadata": {},
   "outputs": [
    {
     "name": "stdout",
     "output_type": "stream",
     "text": [
      "Result 1: nan\n",
      "Result 2: 0\n",
      "Result 3: [-2.14748365e+09]\n"
     ]
    },
    {
     "name": "stderr",
     "output_type": "stream",
     "text": [
      "C:\\Users\\Asus\\AppData\\Local\\Temp\\ipykernel_4068\\3587439506.py:1: RuntimeWarning: invalid value encountered in divide\n",
      "  result1 = np.array(0) / np.array(0)\n",
      "C:\\Users\\Asus\\AppData\\Local\\Temp\\ipykernel_4068\\3587439506.py:3: RuntimeWarning: divide by zero encountered in floor_divide\n",
      "  result2 = np.array(0) // np.array(0)\n",
      "C:\\Users\\Asus\\AppData\\Local\\Temp\\ipykernel_4068\\3587439506.py:5: RuntimeWarning: invalid value encountered in cast\n",
      "  result3 = np.array([np.nan]).astype(int).astype(float)\n"
     ]
    }
   ],
   "source": [
    "result1 = np.array(0) / np.array(0)\n",
    "\n",
    "result2 = np.array(0) // np.array(0)\n",
    "\n",
    "result3 = np.array([np.nan]).astype(int).astype(float)\n",
    "\n",
    "print(\"Result 1:\", result1)\n",
    "print(\"Result 2:\", result2)\n",
    "print(\"Result 3:\", result3)"
   ]
  },
  {
   "cell_type": "markdown",
   "id": "524b65f8",
   "metadata": {},
   "source": [
    "#### 29. How to round away from zero a float array ? (★☆☆)"
   ]
  },
  {
   "cell_type": "code",
   "execution_count": null,
   "id": "61fbb78e",
   "metadata": {},
   "outputs": [
    {
     "name": "stdout",
     "output_type": "stream",
     "text": [
      "Original Float Array:\n",
      "[-2.3 -1.8  0.2  1.5  2.7]\n",
      "\n",
      "Rounded Array (Away from zero):\n",
      "[-3. -2.  1.  2.  3.]\n"
     ]
    }
   ],
   "source": [
    "float_array = np.array([-2.3, -1.8, 0.2, 1.5, 2.7])\n",
    "\n",
    "rounded_array = np.where(float_array >= 0, np.ceil(float_array), np.floor(float_array))\n",
    "\n",
    "print(\"Original Float Array:\")\n",
    "print(float_array)\n",
    "\n",
    "print(\"\\nRounded Array (Away from zero):\")\n",
    "print(rounded_array)"
   ]
  },
  {
   "cell_type": "markdown",
   "id": "8dc40752",
   "metadata": {},
   "source": [
    "#### 30. How to find common values between two arrays? (★☆☆)"
   ]
  },
  {
   "cell_type": "code",
   "execution_count": null,
   "id": "54399cbe",
   "metadata": {},
   "outputs": [
    {
     "name": "stdout",
     "output_type": "stream",
     "text": [
      "Array 1: [1 2 3 4 5]\n",
      "Array 2: [3 4 5 6 7]\n",
      "Common Values: [3 4 5]\n"
     ]
    }
   ],
   "source": [
    "array1 = np.array([1, 2, 3, 4, 5])\n",
    "array2 = np.array([3, 4, 5, 6, 7])\n",
    "\n",
    "common_values = np.intersect1d(array1, array2)\n",
    "\n",
    "print(\"Array 1:\", array1)\n",
    "print(\"Array 2:\", array2)\n",
    "print(\"Common Values:\", common_values)"
   ]
  },
  {
   "cell_type": "markdown",
   "id": "b7f38e21",
   "metadata": {},
   "source": [
    "#### 31. How to ignore all numpy warnings (not recommended)? (★☆☆)"
   ]
  },
  {
   "cell_type": "code",
   "execution_count": null,
   "id": "2ca3289c",
   "metadata": {},
   "outputs": [],
   "source": [
    "import warnings\n",
    "warnings.filterwarnings(\"ignore\", category=np.VisibleDeprecationWarning)\n",
    "\n",
    "# Reset the warning filter\n",
    "warnings.resetwarnings()"
   ]
  },
  {
   "cell_type": "markdown",
   "id": "2d850aab",
   "metadata": {},
   "source": [
    "#### 32. Is the following expressions true? (★☆☆)\n",
    "```python\n",
    "np.sqrt(-1) == np.emath.sqrt(-1)\n",
    "```"
   ]
  },
  {
   "cell_type": "code",
   "execution_count": null,
   "id": "5c83ffce",
   "metadata": {},
   "outputs": [
    {
     "name": "stdout",
     "output_type": "stream",
     "text": [
      "Result: False\n"
     ]
    },
    {
     "name": "stderr",
     "output_type": "stream",
     "text": [
      "C:\\Users\\Asus\\AppData\\Local\\Temp\\ipykernel_4068\\1447750261.py:1: RuntimeWarning: invalid value encountered in sqrt\n",
      "  result = np.sqrt(-1) == np.emath.sqrt(-1)\n"
     ]
    }
   ],
   "source": [
    "result = np.sqrt(-1) == np.emath.sqrt(-1)\n",
    "\n",
    "print(\"Result:\", result)"
   ]
  },
  {
   "cell_type": "markdown",
   "id": "5c4a556f",
   "metadata": {},
   "source": [
    "#### 33. How to get the dates of yesterday, today and tomorrow? (★☆☆)"
   ]
  },
  {
   "cell_type": "code",
   "execution_count": null,
   "id": "c3b683a0",
   "metadata": {},
   "outputs": [
    {
     "name": "stdout",
     "output_type": "stream",
     "text": [
      "Yesterday: 2023-12-04\n",
      "Today: 2023-12-05\n",
      "Tomorrow: 2023-12-06\n"
     ]
    }
   ],
   "source": [
    "yesterday = np.datetime64('today') - np.timedelta64(1)\n",
    "\n",
    "today     = np.datetime64('today')\n",
    "\n",
    "tomorrow  = np.datetime64('today') + np.timedelta64(1)\n",
    "\n",
    "print(\"Yesterday:\", yesterday)\n",
    "print(\"Today:\", today)\n",
    "print(\"Tomorrow:\", tomorrow)"
   ]
  },
  {
   "cell_type": "markdown",
   "id": "453cdd64",
   "metadata": {},
   "source": [
    "#### 34. How to get all the dates corresponding to the month of July 2016? (★★☆)"
   ]
  },
  {
   "cell_type": "code",
   "execution_count": null,
   "id": "4ba4d37c",
   "metadata": {},
   "outputs": [
    {
     "name": "stdout",
     "output_type": "stream",
     "text": [
      "2016-07-01\n",
      "2016-07-02\n",
      "2016-07-03\n",
      "2016-07-04\n",
      "2016-07-05\n",
      "2016-07-06\n",
      "2016-07-07\n",
      "2016-07-08\n",
      "2016-07-09\n",
      "2016-07-10\n",
      "2016-07-11\n",
      "2016-07-12\n",
      "2016-07-13\n",
      "2016-07-14\n",
      "2016-07-15\n",
      "2016-07-16\n",
      "2016-07-17\n",
      "2016-07-18\n",
      "2016-07-19\n",
      "2016-07-20\n",
      "2016-07-21\n",
      "2016-07-22\n",
      "2016-07-23\n",
      "2016-07-24\n",
      "2016-07-25\n",
      "2016-07-26\n",
      "2016-07-27\n",
      "2016-07-28\n",
      "2016-07-29\n",
      "2016-07-30\n",
      "2016-07-31\n"
     ]
    }
   ],
   "source": [
    "start_date = np.datetime64('2016-07-01')\n",
    "\n",
    "days_in_month = 31\n",
    "\n",
    "all_dates = start_date + np.arange(days_in_month)\n",
    "\n",
    "for date in all_dates:\n",
    "   print(date)"
   ]
  },
  {
   "cell_type": "markdown",
   "id": "52667b6e",
   "metadata": {},
   "source": [
    "#### 35. How to compute ((A+B)*(-A/2)) in place (without copy)? (★★☆)"
   ]
  },
  {
   "cell_type": "code",
   "execution_count": null,
   "id": "e6e7c030",
   "metadata": {},
   "outputs": [
    {
     "name": "stdout",
     "output_type": "stream",
     "text": [
      "Result: [ -6.25 -12.25 -20.25]\n"
     ]
    }
   ],
   "source": [
    "import numpy as np\n",
    "\n",
    "# Example arrays A and B\n",
    "A = np.array([1, 2, 3], dtype='float64')  # Specify the dtype as 'int32'\n",
    "B = np.array([4, 5, 6], dtype='float64')  # Specify the dtype as 'int32'\n",
    "\n",
    "# Perform the computation in place\n",
    "result = np.add(A, B, out=A)\n",
    "result = np.multiply(result, -np.divide(A.astype('float64'), 2, out=A), out=A)\n",
    "\n",
    "# Print the result\n",
    "print(\"Result:\", A)"
   ]
  },
  {
   "cell_type": "markdown",
   "id": "9a8f3738",
   "metadata": {},
   "source": [
    "#### 36. Extract the integer part of a random array of positive numbers using 4 different methods (★★☆)"
   ]
  },
  {
   "cell_type": "code",
   "execution_count": null,
   "id": "368a801a",
   "metadata": {},
   "outputs": [
    {
     "name": "stdout",
     "output_type": "stream",
     "text": [
      "Method 1 - np.floor:\n",
      "[3.4854926  2.15461269 8.80674912 1.06466308 7.99807679]\n",
      "[3. 2. 8. 1. 7.]\n",
      "\n",
      "Method 2 - np.ceil:\n",
      "[3.4854926  2.15461269 8.80674912 1.06466308 7.99807679]\n",
      "[4. 3. 9. 2. 8.]\n",
      "\n",
      "Method 3 - np.trunc:\n",
      "[3.4854926  2.15461269 8.80674912 1.06466308 7.99807679]\n",
      "[3. 2. 8. 1. 7.]\n",
      "\n",
      "Method 4 - astype(int):\n",
      "[3.4854926  2.15461269 8.80674912 1.06466308 7.99807679]\n",
      "[3 2 8 1 7]\n"
     ]
    }
   ],
   "source": [
    "random_array = np.random.rand(5) * 10  # Replace 5 with the desired array size\n",
    "\n",
    "# Extract integer part using np.floor\n",
    "integer_part_method1 = np.floor(random_array)\n",
    "\n",
    "print(\"Method 1 - np.floor:\")\n",
    "print(random_array)\n",
    "print(integer_part_method1)\n",
    "\n",
    "integer_part_method2 = np.ceil(random_array)\n",
    "\n",
    "print(\"\\nMethod 2 - np.ceil:\")\n",
    "print(random_array)\n",
    "print(integer_part_method2)\n",
    "\n",
    "integer_part_method3 = np.trunc(random_array)\n",
    "\n",
    "print(\"\\nMethod 3 - np.trunc:\")\n",
    "print(random_array)\n",
    "print(integer_part_method3)\n",
    "\n",
    "integer_part_method4 = random_array.astype(int)\n",
    "\n",
    "print(\"\\nMethod 4 - astype(int):\")\n",
    "print(random_array)\n",
    "print(integer_part_method4)"
   ]
  },
  {
   "cell_type": "markdown",
   "id": "cab1eed1",
   "metadata": {},
   "source": [
    "#### 37. Create a 5x5 matrix with row values ranging from 0 to 4 (★★☆)"
   ]
  },
  {
   "cell_type": "code",
   "execution_count": null,
   "id": "f1b579ba",
   "metadata": {},
   "outputs": [
    {
     "name": "stdout",
     "output_type": "stream",
     "text": [
      "5x5 Matrix:\n",
      "[[0 1 2 3 4]\n",
      " [0 1 2 3 4]\n",
      " [0 1 2 3 4]\n",
      " [0 1 2 3 4]\n",
      " [0 1 2 3 4]]\n"
     ]
    }
   ],
   "source": [
    "matrix = np.arange(5).reshape(1, -1) + np.zeros((5, 5), dtype=int)\n",
    "\n",
    "print(\"5x5 Matrix:\")\n",
    "print(matrix)"
   ]
  },
  {
   "cell_type": "markdown",
   "id": "cd0ce6b1",
   "metadata": {},
   "source": [
    "#### 38. Consider a generator function that generates 10 integers and use it to build an array (★☆☆)"
   ]
  },
  {
   "cell_type": "code",
   "execution_count": null,
   "id": "aab193a6",
   "metadata": {},
   "outputs": [
    {
     "name": "stdout",
     "output_type": "stream",
     "text": [
      "Generated Array:\n",
      "[0 1 2 3 4 5 6 7 8 9]\n"
     ]
    }
   ],
   "source": [
    "def integer_generator():\n",
    "   for i in range(10):\n",
    "      yield i\n",
    "\n",
    "generated_array = np.fromiter(integer_generator(), dtype=int, count=10)\n",
    "\n",
    "# Print the generated array\n",
    "print(\"Generated Array:\")\n",
    "print(generated_array)"
   ]
  },
  {
   "cell_type": "markdown",
   "id": "c4c942d1",
   "metadata": {},
   "source": [
    "#### 39. Create a vector of size 10 with values ranging from 0 to 1, both excluded (★★☆)"
   ]
  },
  {
   "cell_type": "code",
   "execution_count": null,
   "id": "e42eaa4b",
   "metadata": {},
   "outputs": [
    {
     "name": "stdout",
     "output_type": "stream",
     "text": [
      "Vector:\n",
      "[0.09090909 0.18181818 0.27272727 0.36363636 0.45454545 0.54545455\n",
      " 0.63636364 0.72727273 0.81818182 0.90909091]\n"
     ]
    }
   ],
   "source": [
    "vector = np.linspace(0, 1, 12)[1:-1]\n",
    "\n",
    "print(\"Vector:\")\n",
    "print(vector)"
   ]
  },
  {
   "cell_type": "markdown",
   "id": "9b3cb8d2",
   "metadata": {},
   "source": [
    "#### 40. Create a random vector of size 10 and sort it (★★☆)"
   ]
  },
  {
   "cell_type": "code",
   "execution_count": null,
   "id": "37d2b341",
   "metadata": {},
   "outputs": [
    {
     "name": "stdout",
     "output_type": "stream",
     "text": [
      "Random Vector:\n",
      "[0.9622075  0.6898373  0.31635286 0.61389983 0.1160102  0.9650295\n",
      " 0.32950425 0.80565263 0.16920129 0.03493171]\n",
      "\n",
      "Sorted Vector:\n",
      "[0.03493171 0.1160102  0.16920129 0.31635286 0.32950425 0.61389983\n",
      " 0.6898373  0.80565263 0.9622075  0.9650295 ]\n"
     ]
    }
   ],
   "source": [
    "random_vector = np.random.rand(10)\n",
    "\n",
    "sorted_vector = np.sort(random_vector)\n",
    "\n",
    "print(\"Random Vector:\")\n",
    "print(random_vector)\n",
    "\n",
    "print(\"\\nSorted Vector:\")\n",
    "print(sorted_vector)"
   ]
  },
  {
   "cell_type": "markdown",
   "id": "2facfddc",
   "metadata": {},
   "source": [
    "#### 41. How to sum a small array faster than np.sum? (★★☆)"
   ]
  },
  {
   "cell_type": "code",
   "execution_count": null,
   "id": "4bb8864f",
   "metadata": {},
   "outputs": [
    {
     "name": "stdout",
     "output_type": "stream",
     "text": [
      "\n",
      "Sum:\n",
      "15\n"
     ]
    }
   ],
   "source": [
    "small_array = np.array([1, 2, 3, 4, 5])\n",
    "\n",
    "sum = np.add.reduce(small_array)\n",
    "\n",
    "print(\"\\nSum:\")\n",
    "print(sum)"
   ]
  },
  {
   "cell_type": "markdown",
   "id": "539cd2a5",
   "metadata": {},
   "source": [
    "#### 42. Consider two random array A and B, check if they are equal (★★☆)"
   ]
  },
  {
   "cell_type": "code",
   "execution_count": null,
   "id": "5246d7bf",
   "metadata": {},
   "outputs": [
    {
     "name": "stdout",
     "output_type": "stream",
     "text": [
      "Array A: [0.56544349 0.07243978 0.93625556 0.61356597 0.46824263]\n",
      "Array B: [0.86753019 0.89755229 0.56699847 0.39678694 0.09218184]\n",
      "Arrays A and B are not equal.\n"
     ]
    }
   ],
   "source": [
    "A = np.random.rand(5)\n",
    "B = np.random.rand(5)\n",
    "\n",
    "# Check if arrays A and B are equal\n",
    "are_equal = np.array_equal(A, B)\n",
    "\n",
    "print(\"Array A:\", A)\n",
    "print(\"Array B:\", B)\n",
    "\n",
    "if are_equal:\n",
    "   print(\"Arrays A and B are equal.\")\n",
    "else:\n",
    "   print(\"Arrays A and B are not equal.\")"
   ]
  },
  {
   "cell_type": "markdown",
   "id": "448f8274",
   "metadata": {},
   "source": [
    "#### 43. Make an array immutable (read-only) (★★☆)"
   ]
  },
  {
   "cell_type": "code",
   "execution_count": null,
   "id": "7cf2b3dd",
   "metadata": {},
   "outputs": [
    {
     "name": "stdout",
     "output_type": "stream",
     "text": [
      "Error: assignment destination is read-only\n",
      "Is the array read-only? True\n"
     ]
    }
   ],
   "source": [
    "y_array = np.array([1, 2, 3, 4, 5])\n",
    "\n",
    "my_array.flags.writeable = False\n",
    "\n",
    "try:\n",
    "   my_array[0] = 100\n",
    "except ValueError as e:\n",
    "   print(\"Error:\", e)\n",
    "\n",
    "print(\"Is the array read-only?\", not my_array.flags.writeable)"
   ]
  },
  {
   "cell_type": "markdown",
   "id": "d7b7aaf3",
   "metadata": {},
   "source": [
    "#### 44. Consider a random 10x2 matrix representing cartesian coordinates, convert them to polar coordinates (★★☆)"
   ]
  },
  {
   "cell_type": "code",
   "execution_count": null,
   "id": "e2337585",
   "metadata": {},
   "outputs": [
    {
     "name": "stdout",
     "output_type": "stream",
     "text": [
      "Cartesian Coordinates:\n",
      "[[0.16782089 0.84781929]\n",
      " [0.24709602 0.78623078]\n",
      " [0.89156707 0.26630485]\n",
      " [0.6214384  0.00244576]\n",
      " [0.87072903 0.13414748]\n",
      " [0.75664081 0.25928739]\n",
      " [0.59999744 0.13330597]\n",
      " [0.90630646 0.02332648]\n",
      " [0.26078735 0.73223469]\n",
      " [0.83124747 0.85968845]]\n",
      "\n",
      "Polar Coordinates:\n",
      "[[0.86426929 1.3753783 ]\n",
      " [0.82414519 1.26629133]\n",
      " [0.93048918 0.29025729]\n",
      " [0.62144322 0.00393562]\n",
      " [0.88100204 0.15286155]\n",
      " [0.79983452 0.33014087]\n",
      " [0.61462787 0.21862639]\n",
      " [0.9066066  0.02573228]\n",
      " [0.77728868 1.22865082]\n",
      " [1.19584137 0.80221625]]\n"
     ]
    }
   ],
   "source": [
    "cartesian_coordinates = np.random.rand(10, 2)\n",
    "\n",
    "x, y = cartesian_coordinates[:, 0], cartesian_coordinates[:, 1]\n",
    "\n",
    "r = np.sqrt(x**2 + y**2)\n",
    "theta = np.arctan2(y, x)\n",
    "\n",
    "polar_coordinates = np.column_stack((r, theta))\n",
    "\n",
    "print(\"Cartesian Coordinates:\")\n",
    "print(cartesian_coordinates)\n",
    "\n",
    "print(\"\\nPolar Coordinates:\")\n",
    "print(polar_coordinates)"
   ]
  },
  {
   "cell_type": "markdown",
   "id": "a556027a",
   "metadata": {},
   "source": [
    "#### 45. Create random vector of size 10 and replace the maximum value by 0 (★★☆)"
   ]
  },
  {
   "cell_type": "code",
   "execution_count": null,
   "id": "9e07cb87",
   "metadata": {},
   "outputs": [
    {
     "name": "stdout",
     "output_type": "stream",
     "text": [
      "Original Random Vector:\n",
      "[0.08744723 0.41835582 0.55014855 0.81759865 0.27156188 0.19868844\n",
      " 0.52358089 0.03370483 0.7548971  0.52212826]\n",
      "Changed Random Vector:\n",
      "[0.08744723 0.41835582 0.55014855 0.         0.27156188 0.19868844\n",
      " 0.52358089 0.03370483 0.7548971  0.52212826]\n"
     ]
    }
   ],
   "source": [
    "random_vector = np.random.rand(10)\n",
    "\n",
    "max_index = np.argmax(random_vector)\n",
    "\n",
    "print(\"Original Random Vector:\")\n",
    "print(random_vector)\n",
    "\n",
    "random_vector[max_index] = 0\n",
    "\n",
    "print(\"Changed Random Vector:\")\n",
    "print(random_vector)"
   ]
  },
  {
   "cell_type": "markdown",
   "id": "004f3da1",
   "metadata": {},
   "source": [
    "#### 46. Create a structured array with `x` and `y` coordinates covering the [0,1]x[0,1] area (★★☆)"
   ]
  },
  {
   "cell_type": "code",
   "execution_count": null,
   "id": "b3824741",
   "metadata": {},
   "outputs": [
    {
     "name": "stdout",
     "output_type": "stream",
     "text": [
      "Structured Array:\n",
      "[(0.  , 0.  ) (0.25, 0.  ) (0.5 , 0.  ) (0.75, 0.  ) (1.  , 0.  )\n",
      " (0.  , 0.25) (0.25, 0.25) (0.5 , 0.25) (0.75, 0.25) (1.  , 0.25)\n",
      " (0.  , 0.5 ) (0.25, 0.5 ) (0.5 , 0.5 ) (0.75, 0.5 ) (1.  , 0.5 )\n",
      " (0.  , 0.75) (0.25, 0.75) (0.5 , 0.75) (0.75, 0.75) (1.  , 0.75)\n",
      " (0.  , 1.  ) (0.25, 1.  ) (0.5 , 1.  ) (0.75, 1.  ) (1.  , 1.  )]\n"
     ]
    }
   ],
   "source": [
    "grid_size = 5\n",
    "\n",
    "x, y = np.meshgrid(np.linspace(0, 1, grid_size), np.linspace(0, 1, grid_size))\n",
    "\n",
    "structured_array = np.array(list(zip(x.ravel(), y.ravel())), dtype=[('x', float), ('y', float)])\n",
    "\n",
    "print(\"Structured Array:\")\n",
    "print(structured_array)"
   ]
  },
  {
   "cell_type": "markdown",
   "id": "1c0adc0d",
   "metadata": {},
   "source": [
    "#### 47. Given two arrays, X and Y, construct the Cauchy matrix C (Cij =1/(xi - yj)) (★★☆)"
   ]
  },
  {
   "cell_type": "code",
   "execution_count": null,
   "id": "01b3bbb7",
   "metadata": {},
   "outputs": [
    {
     "name": "stdout",
     "output_type": "stream",
     "text": [
      "Cauchy Matrix C:\n",
      "[[-0.33333333 -0.25       -0.2       ]\n",
      " [-0.5        -0.33333333 -0.25      ]\n",
      " [-1.         -0.5        -0.33333333]]\n"
     ]
    }
   ],
   "source": [
    "X = np.array([1, 2, 3])\n",
    "Y = np.array([4, 5, 6])\n",
    "\n",
    "C = 1 / (X[:, np.newaxis] - Y)\n",
    "\n",
    "print(\"Cauchy Matrix C:\")\n",
    "print(C)"
   ]
  },
  {
   "cell_type": "markdown",
   "id": "c8a2f65a",
   "metadata": {},
   "source": [
    "#### 48. Print the minimum and maximum representable value for each numpy scalar type (★★☆)"
   ]
  },
  {
   "cell_type": "code",
   "execution_count": null,
   "id": "35d844d6",
   "metadata": {},
   "outputs": [
    {
     "name": "stdout",
     "output_type": "stream",
     "text": [
      "float16:\n",
      "  Minimum representable value: -65504.0\n",
      "  Maximum representable value: 65504.0\n",
      "\n",
      "float32:\n",
      "  Minimum representable value: -3.4028234663852886e+38\n",
      "  Maximum representable value: 3.4028234663852886e+38\n",
      "\n",
      "float64:\n",
      "  Minimum representable value: -1.7976931348623157e+308\n",
      "  Maximum representable value: 1.7976931348623157e+308\n",
      "\n",
      "int8:\n",
      "  Minimum representable value: -128\n",
      "  Maximum representable value: 127\n",
      "\n",
      "int16:\n",
      "  Minimum representable value: -32768\n",
      "  Maximum representable value: 32767\n",
      "\n",
      "int32:\n",
      "  Minimum representable value: -2147483648\n",
      "  Maximum representable value: 2147483647\n",
      "\n",
      "int64:\n",
      "  Minimum representable value: -9223372036854775808\n",
      "  Maximum representable value: 9223372036854775807\n",
      "\n",
      "uint8:\n",
      "  Minimum representable value: 0\n",
      "  Maximum representable value: 255\n",
      "\n",
      "uint16:\n",
      "  Minimum representable value: 0\n",
      "  Maximum representable value: 65535\n",
      "\n",
      "uint32:\n",
      "  Minimum representable value: 0\n",
      "  Maximum representable value: 4294967295\n",
      "\n",
      "uint64:\n",
      "  Minimum representable value: 0\n",
      "  Maximum representable value: 18446744073709551615\n",
      "\n"
     ]
    }
   ],
   "source": [
    "float_types = [np.float16, np.float32, np.float64]\n",
    "for dtype in float_types:\n",
    "   info = np.finfo(dtype)\n",
    "   print(f\"{dtype.__name__}:\")\n",
    "   print(f\"  Minimum representable value: {info.min}\")\n",
    "   print(f\"  Maximum representable value: {info.max}\")\n",
    "   print()\n",
    "\n",
    "# Integer types\n",
    "int_types = [np.int8, np.int16, np.int32, np.int64, np.uint8, np.uint16, np.uint32, np.uint64]\n",
    "for dtype in int_types:\n",
    "   info = np.iinfo(dtype)\n",
    "   print(f\"{dtype.__name__}:\")\n",
    "   print(f\"  Minimum representable value: {info.min}\")\n",
    "   print(f\"  Maximum representable value: {info.max}\")\n",
    "   print()"
   ]
  },
  {
   "cell_type": "markdown",
   "id": "11727a69",
   "metadata": {},
   "source": [
    "#### 49. How to print all the values of an array? (★★☆)"
   ]
  },
  {
   "cell_type": "code",
   "execution_count": null,
   "id": "47e98473",
   "metadata": {},
   "outputs": [
    {
     "name": "stdout",
     "output_type": "stream",
     "text": [
      "All values of the array:\n",
      "[[1 2 3]\n",
      " [4 5 6]\n",
      " [7 8 9]]\n"
     ]
    }
   ],
   "source": [
    "my_array = np.array([[1, 2, 3], [4, 5, 6], [7, 8, 9]])\n",
    "\n",
    "# Print all values of the array\n",
    "print(\"All values of the array:\")\n",
    "print(my_array)"
   ]
  },
  {
   "cell_type": "markdown",
   "id": "e0e7d741",
   "metadata": {},
   "source": [
    "#### 50. How to find the closest value (to a given scalar) in a vector? (★★☆)"
   ]
  },
  {
   "cell_type": "code",
   "execution_count": null,
   "id": "62cabf6f",
   "metadata": {},
   "outputs": [
    {
     "name": "stdout",
     "output_type": "stream",
     "text": [
      "Vector: [1.2 3.5 4.8 7.1 9.4]\n",
      "Given Scalar: 5.0\n",
      "Closest Value: 4.8\n"
     ]
    }
   ],
   "source": [
    "my_vector = np.array([1.2, 3.5, 4.8, 7.1, 9.4])\n",
    "\n",
    "# Given scalar\n",
    "given_scalar = 5.0\n",
    "\n",
    "# Find the index of the closest value\n",
    "closest_index = np.argmin(np.abs(my_vector - given_scalar))\n",
    "\n",
    "# Get the closest value\n",
    "closest_value = my_vector[closest_index]\n",
    "\n",
    "print(\"Vector:\", my_vector)\n",
    "print(\"Given Scalar:\", given_scalar)\n",
    "print(\"Closest Value:\", closest_value)"
   ]
  },
  {
   "cell_type": "markdown",
   "id": "c5611b9e",
   "metadata": {},
   "source": [
    "#### 51. Create a structured array representing a position (x,y) and a color (r,g,b) (★★☆)"
   ]
  },
  {
   "cell_type": "code",
   "execution_count": null,
   "id": "f622939d",
   "metadata": {},
   "outputs": [
    {
     "name": "stdout",
     "output_type": "stream",
     "text": [
      "Structured Array:\n",
      "[(1., 2., 255,   0,   0) (3., 4.,   0, 255,   0) (5., 6.,   0,   0, 255)]\n"
     ]
    }
   ],
   "source": [
    "structured_array = np.array([(1.0, 2.0, 255, 0, 0),\n",
    "                           (3.0, 4.0, 0, 255, 0),\n",
    "                           (5.0, 6.0, 0, 0, 255)],\n",
    "                           dtype=[('x', float), ('y', float), ('r', int), ('g', int), ('b', int)])\n",
    "\n",
    "# Print the structured array\n",
    "print(\"Structured Array:\")\n",
    "print(structured_array)"
   ]
  },
  {
   "cell_type": "markdown",
   "id": "d22b8574",
   "metadata": {},
   "source": [
    "#### 52. Consider a random vector with shape (100,2) representing coordinates, find point by point distances (★★☆)"
   ]
  },
  {
   "cell_type": "code",
   "execution_count": null,
   "id": "d5c9cdf8",
   "metadata": {},
   "outputs": [
    {
     "name": "stdout",
     "output_type": "stream",
     "text": [
      "Point-by-Point Distances:\n",
      "[[0.         0.66114867 0.15229875 ... 0.269515   0.25045749 0.37382193]\n",
      " [0.66114867 0.         0.65250641 ... 0.73212992 0.83734023 0.28847337]\n",
      " [0.15229875 0.65250641 0.         ... 0.4213403  0.1849235  0.3862978 ]\n",
      " ...\n",
      " [0.269515   0.73212992 0.4213403  ... 0.         0.48604004 0.46564502]\n",
      " [0.25045749 0.83734023 0.1849235  ... 0.48604004 0.         0.56904806]\n",
      " [0.37382193 0.28847337 0.3862978  ... 0.46564502 0.56904806 0.        ]]\n"
     ]
    }
   ],
   "source": [
    "from scipy.spatial.distance import cdist\n",
    "\n",
    "coordinates = np.random.rand(100, 2)\n",
    "\n",
    "distances = cdist(coordinates, coordinates)\n",
    "\n",
    "print(\"Point-by-Point Distances:\")\n",
    "print(distances)"
   ]
  },
  {
   "cell_type": "markdown",
   "id": "f5c164f2",
   "metadata": {},
   "source": [
    "#### 53. How to convert a float (32 bits) array into an integer (32 bits) in place?"
   ]
  },
  {
   "cell_type": "code",
   "execution_count": null,
   "id": "ea262de8",
   "metadata": {},
   "outputs": [
    {
     "name": "stdout",
     "output_type": "stream",
     "text": [
      "Original Float Array:\n",
      "[1.2 3.4 5.6]\n",
      "\n",
      "Converted Integer Array:\n",
      "[1067030938 1079613850 1085485875]\n"
     ]
    }
   ],
   "source": [
    "float_array = np.array([1.2, 3.4, 5.6], dtype=np.float32)\n",
    "\n",
    "int_array = float_array.view(np.int32)\n",
    "\n",
    "print(\"Original Float Array:\")\n",
    "print(float_array)\n",
    "\n",
    "print(\"\\nConverted Integer Array:\")\n",
    "print(int_array)\n"
   ]
  },
  {
   "cell_type": "markdown",
   "id": "a8b7e6f5",
   "metadata": {},
   "source": [
    "#### 54. How to read the following file? (★★☆)\n",
    "```\n",
    "1, 2, 3, 4, 5\n",
    "6,  ,  , 7, 8\n",
    " ,  , 9,10,11\n",
    "```"
   ]
  },
  {
   "cell_type": "code",
   "execution_count": null,
   "id": "bde0538a",
   "metadata": {},
   "outputs": [
    {
     "name": "stdout",
     "output_type": "stream",
     "text": [
      "[[ 1  2  3  4  5]\n",
      " [ 6 -1 -1  7  8]\n",
      " [-1 -1  9 10 11]]\n"
     ]
    }
   ],
   "source": [
    "from io import StringIO\n",
    "\n",
    "# Fake file\n",
    "file = StringIO('''1, 2, 3, 4, 5\n",
    "\n",
    "               6,  ,  , 7, 8\n",
    "\n",
    "               ,  , 9,10,11\n",
    "''')\n",
    "\n",
    "output = np.genfromtxt(s, delimiter=\",\", dtype=np.int32)\n",
    "\n",
    "print(\"\\nOutput:\")\n",
    "print(output)"
   ]
  },
  {
   "cell_type": "markdown",
   "id": "c6b32834",
   "metadata": {},
   "source": [
    "#### 55. What is the equivalent of enumerate for numpy arrays? (★★☆)"
   ]
  },
  {
   "cell_type": "code",
   "execution_count": null,
   "id": "ab02472a",
   "metadata": {},
   "outputs": [
    {
     "name": "stdout",
     "output_type": "stream",
     "text": [
      "Index: (0, 0), Value: 1\n",
      "Index: (0, 1), Value: 2\n",
      "Index: (0, 2), Value: 3\n",
      "Index: (1, 0), Value: 4\n",
      "Index: (1, 1), Value: 5\n",
      "Index: (1, 2), Value: 6\n",
      "Index: (2, 0), Value: 7\n",
      "Index: (2, 1), Value: 8\n",
      "Index: (2, 2), Value: 9\n"
     ]
    }
   ],
   "source": [
    "my_array = np.array([[1, 2, 3], [4, 5, 6], [7, 8, 9]])\n",
    "\n",
    "for index, value in np.ndenumerate(my_array):\n",
    "   print(f\"Index: {index}, Value: {value}\")"
   ]
  },
  {
   "cell_type": "markdown",
   "id": "a2121a05",
   "metadata": {},
   "source": [
    "#### 56. Generate a generic 2D Gaussian-like array (★★☆)"
   ]
  },
  {
   "cell_type": "code",
   "execution_count": null,
   "id": "18507102",
   "metadata": {},
   "outputs": [
    {
     "data": {
      "image/png": "[encoded data removed]",
      "text/plain": [
       "<Figure size 640x480 with 2 Axes>"
      ]
     },
     "metadata": {},
     "output_type": "display_data"
    }
   ],
   "source": [
    "import matplotlib.pyplot as plt\n",
    "\n",
    "array_shape = (100, 100)  \n",
    "center = (50, 50)         \n",
    "sigma = (15, 25)          \n",
    "\n",
    "x, y = np.meshgrid(np.arange(array_shape[1]), np.arange(array_shape[0]))\n",
    "x_center, y_center = center\n",
    "x_sigma, y_sigma = sigma\n",
    "exponent = -((x - x_center)**2 / (2 * x_sigma**2) + (y - y_center)**2 / (2 * y_sigma**2))\n",
    "gaussian_array = np.exp(exponent)\n",
    "\n",
    "plt.imshow(gaussian_array, cmap='viridis', extent=(0, array_shape[1], array_shape[0], 0))\n",
    "plt.title('2D Gaussian-like Array')\n",
    "plt.xlabel('X')\n",
    "plt.ylabel('Y')\n",
    "plt.colorbar()\n",
    "plt.show()"
   ]
  },
  {
   "cell_type": "markdown",
   "id": "97055efa",
   "metadata": {},
   "source": [
    "#### 57. How to randomly place p elements in a 2D array? (★★☆)"
   ]
  },
  {
   "cell_type": "code",
   "execution_count": null,
   "id": "292e842f",
   "metadata": {},
   "outputs": [
    {
     "name": "stdout",
     "output_type": "stream",
     "text": [
      "Randomly Placed Array:\n",
      "[[0. 0. 0. 1. 0.]\n",
      " [0. 0. 0. 0. 1.]\n",
      " [0. 0. 0. 0. 0.]\n",
      " [1. 1. 1. 1. 0.]\n",
      " [0. 1. 0. 0. 1.]]\n"
     ]
    }
   ],
   "source": [
    "array_shape = (5, 5)\n",
    "\n",
    "p = 8\n",
    "\n",
    "array = np.zeros(array_shape)\n",
    "\n",
    "total_elements = array_shape[0] * array_shape[1]\n",
    "random_indices = np.random.choice(total_elements, p, replace=False)\n",
    "\n",
    "array.flat[random_indices] = 1\n",
    "\n",
    "print(\"Randomly Placed Array:\")\n",
    "print(array)"
   ]
  },
  {
   "cell_type": "markdown",
   "id": "bfd2513c",
   "metadata": {},
   "source": [
    "#### 58. Subtract the mean of each row of a matrix (★★☆)"
   ]
  },
  {
   "cell_type": "code",
   "execution_count": null,
   "id": "f306ab72",
   "metadata": {},
   "outputs": [
    {
     "name": "stdout",
     "output_type": "stream",
     "text": [
      "Original Matrix:\n",
      "[[1 2 3]\n",
      " [4 5 6]\n",
      " [7 8 9]]\n",
      "\n",
      "Matrix with Mean Subtracted from Each Row:\n",
      "[[-1.  0.  1.]\n",
      " [-1.  0.  1.]\n",
      " [-1.  0.  1.]]\n"
     ]
    }
   ],
   "source": [
    "matrix = np.array([[1, 2, 3],\n",
    "                  [4, 5, 6],\n",
    "                  [7, 8, 9]])\n",
    "\n",
    "matrix_mean_subtracted = matrix - np.mean(matrix, axis=1, keepdims=True)\n",
    "\n",
    "print(\"Original Matrix:\")\n",
    "print(matrix)\n",
    "\n",
    "print(\"\\nMatrix with Mean Subtracted from Each Row:\")\n",
    "print(matrix_mean_subtracted)"
   ]
  },
  {
   "cell_type": "markdown",
   "id": "da9f2f9b",
   "metadata": {},
   "source": [
    "#### 59. How to sort an array by the nth column? (★★☆)"
   ]
  },
  {
   "cell_type": "code",
   "execution_count": null,
   "id": "68cde57f",
   "metadata": {},
   "outputs": [
    {
     "name": "stdout",
     "output_type": "stream",
     "text": [
      "Original Array:\n",
      "[[1 4 3]\n",
      " [6 2 5]\n",
      " [9 7 8]]\n",
      "\n",
      "Array Sorted by the nth Column:\n",
      "[[6 2 5]\n",
      " [1 4 3]\n",
      " [9 7 8]]\n"
     ]
    }
   ],
   "source": [
    "array = np.array([[1, 4, 3],\n",
    "                  [6, 2, 5],\n",
    "                  [9, 7, 8]])\n",
    "\n",
    "n = 1\n",
    "\n",
    "sorted_indices = np.argsort(array[:, n])\n",
    "\n",
    "sorted_array = array[sorted_indices]\n",
    "\n",
    "# Display the original and sorted arrays\n",
    "print(\"Original Array:\")\n",
    "print(array)\n",
    "\n",
    "print(\"\\nArray Sorted by the nth Column:\")\n",
    "print(sorted_array)"
   ]
  },
  {
   "cell_type": "markdown",
   "id": "5b7be45c",
   "metadata": {},
   "source": [
    "#### 60. How to tell if a given 2D array has null columns? (★★☆)"
   ]
  },
  {
   "cell_type": "code",
   "execution_count": null,
   "id": "7dbe2c27",
   "metadata": {},
   "outputs": [
    {
     "name": "stdout",
     "output_type": "stream",
     "text": [
      "Array with null columns: True\n",
      "Array without null columns: False\n"
     ]
    }
   ],
   "source": [
    "array_with_null_columns = np.array([[0, 1, 0],\n",
    "                                    [0, 0, 0],\n",
    "                                    [0, 0, 0]])\n",
    "\n",
    "array_without_null_columns = np.array([[1, 2, 3],\n",
    "                                       [0, 1, 0],\n",
    "                                       [0, 0, 0]])\n",
    "\n",
    "result_with_null_columns = np.any(np.all(array_with_null_columns == 0, axis=0))\n",
    "result_without_null_columns = np.any(np.all(array_without_null_columns == 0, axis=0))\n",
    "\n",
    "print(\"Array with null columns:\", result_with_null_columns)\n",
    "print(\"Array without null columns:\", result_without_null_columns)"
   ]
  },
  {
   "cell_type": "markdown",
   "id": "7c18c02e",
   "metadata": {},
   "source": [
    "#### 61. Find the nearest value from a given value in an array (★★☆)"
   ]
  },
  {
   "cell_type": "code",
   "execution_count": null,
   "id": "b78ae9c4",
   "metadata": {},
   "outputs": [
    {
     "name": "stdout",
     "output_type": "stream",
     "text": [
      "Array: [ 1  3  6  8 10]\n",
      "Given Value: 5\n",
      "Nearest Value: 6\n"
     ]
    }
   ],
   "source": [
    "array = np.array([1, 3, 6, 8, 10])\n",
    "\n",
    "# Given value\n",
    "given_value = 5\n",
    "\n",
    "nearest_index = np.argmin(np.abs(array - given_value))\n",
    "\n",
    "nearest_value = array[nearest_index]\n",
    "\n",
    "print(\"Array:\", array)\n",
    "print(\"Given Value:\", given_value)\n",
    "print(\"Nearest Value:\", nearest_value)"
   ]
  },
  {
   "cell_type": "markdown",
   "id": "8174ba2c",
   "metadata": {},
   "source": [
    "#### 62. Considering two arrays with shape (1,3) and (3,1), how to compute their sum using an iterator? (★★☆)"
   ]
  },
  {
   "cell_type": "code",
   "execution_count": null,
   "id": "8a18fe57",
   "metadata": {},
   "outputs": [
    {
     "name": "stdout",
     "output_type": "stream",
     "text": [
      "Array1:\n",
      "[[1 2 3]]\n",
      "\n",
      "Array2:\n",
      "[[4]\n",
      " [5]\n",
      " [6]]\n",
      "\n",
      "Sum Result:\n",
      "[[5 6 7]\n",
      " [6 7 8]\n",
      " [7 8 9]]\n"
     ]
    }
   ],
   "source": [
    "array1 = np.array([[1, 2, 3]])\n",
    "array2 = np.array([[4], [5], [6]])\n",
    "\n",
    "it = np.nditer([array1, array2, None])\n",
    "\n",
    "# Iterate and compute the sum\n",
    "for x, y, result in it:\n",
    "   result[...] = x + y\n",
    "\n",
    "# Get the result from the iterator\n",
    "sum_result = it.operands[2]\n",
    "\n",
    "print(\"Array1:\")\n",
    "print(array1)\n",
    "\n",
    "print(\"\\nArray2:\")\n",
    "print(array2)\n",
    "\n",
    "print(\"\\nSum Result:\")\n",
    "print(sum_result)"
   ]
  },
  {
   "cell_type": "markdown",
   "id": "9189bd7c",
   "metadata": {},
   "source": [
    "#### 63. Create an array class that has a name attribute (★★☆)"
   ]
  },
  {
   "cell_type": "code",
   "execution_count": null,
   "id": "1c01ed42",
   "metadata": {},
   "outputs": [
    {
     "name": "stdout",
     "output_type": "stream",
     "text": [
      "Array Name: ExampleArray\n",
      "Array Data: [1, 2, 3, 4, 5]\n"
     ]
    }
   ],
   "source": [
    "class NamedArray:\n",
    "   def __init__(self, data, name=None):\n",
    "      self.data, self.name = data, name\n",
    "\n",
    "# Example usage\n",
    "data_array = [1, 2, 3, 4, 5]\n",
    "name_array = NamedArray(data_array, name=\"ExampleArray\")\n",
    "\n",
    "# Accessing attributes\n",
    "print(\"Array Name:\", name_array.name)\n",
    "print(\"Array Data:\", name_array.data)"
   ]
  },
  {
   "cell_type": "markdown",
   "id": "f30162d2",
   "metadata": {},
   "source": [
    "#### 64. Consider a given vector, how to add 1 to each element indexed by a second vector (be careful with repeated indices)? (★★★)"
   ]
  },
  {
   "cell_type": "code",
   "execution_count": null,
   "id": "093ba36f",
   "metadata": {},
   "outputs": [
    {
     "name": "stdout",
     "output_type": "stream",
     "text": [
      "Given Vector:\n",
      "[2 3 3 5 6]\n"
     ]
    }
   ],
   "source": [
    "given_vector = np.array([1, 2, 3, 4, 5])\n",
    "\n",
    "index_vector = np.array([1, 3, 0, 1, 4])\n",
    "\n",
    "given_vector[index_vector] += 1\n",
    "\n",
    "print(\"Given Vector:\")\n",
    "print(given_vector)"
   ]
  },
  {
   "cell_type": "markdown",
   "id": "f5b1c584",
   "metadata": {},
   "source": [
    "#### 65. How to accumulate elements of a vector (X) to an array (F) based on an index list (I)? (★★★)"
   ]
  },
  {
   "cell_type": "code",
   "execution_count": null,
   "id": "c9d92a75",
   "metadata": {},
   "outputs": [
    {
     "name": "stdout",
     "output_type": "stream",
     "text": [
      "Vector X:\n",
      "[1 2 3 4 5]\n",
      "\n",
      "Index List I:\n",
      "[1 3 0 1 4]\n",
      "\n",
      "Accumulated Array F:\n",
      "[3 5 0 2 5]\n"
     ]
    }
   ],
   "source": [
    "X = np.array([1, 2, 3, 4, 5])\n",
    "\n",
    "I = np.array([1, 3, 0, 1, 4])\n",
    "\n",
    "F = np.zeros_like(X)\n",
    "np.add.at(F, I, X)\n",
    "\n",
    "print(\"Vector X:\")\n",
    "print(X)\n",
    "\n",
    "print(\"\\nIndex List I:\")\n",
    "print(I)\n",
    "\n",
    "print(\"\\nAccumulated Array F:\")\n",
    "print(F)"
   ]
  },
  {
   "cell_type": "markdown",
   "id": "994c452d",
   "metadata": {},
   "source": [
    "#### 66. Considering a (w,h,3) image of (dtype=ubyte), compute the number of unique colors (★★☆)"
   ]
  },
  {
   "cell_type": "code",
   "execution_count": null,
   "id": "269cdaea",
   "metadata": {},
   "outputs": [
    {
     "name": "stdout",
     "output_type": "stream",
     "text": [
      "Number of unique colors: 9998\n"
     ]
    }
   ],
   "source": [
    "image = np.random.randint(0, 256, size=(100, 100, 3), dtype=np.uint8)\n",
    "\n",
    "reshaped_image = image.reshape(-1, 3)\n",
    "\n",
    "unique_colors = np.unique(reshaped_image, axis=0)\n",
    "\n",
    "print(\"Number of unique colors:\", len(unique_colors))"
   ]
  },
  {
   "cell_type": "markdown",
   "id": "4bddeb31",
   "metadata": {},
   "source": [
    "#### 67. Considering a four dimensions array, how to get sum over the last two axis at once? (★★★)"
   ]
  },
  {
   "cell_type": "code",
   "execution_count": null,
   "id": "32af15f5",
   "metadata": {},
   "outputs": [
    {
     "name": "stdout",
     "output_type": "stream",
     "text": [
      "Original Array Shape: (2, 3, 4, 5)\n",
      "Original Array: [[[[3.46977002e-01 7.35268777e-01 6.10710167e-01 3.89699342e-01\n",
      "    9.34156395e-01]\n",
      "   [5.08840032e-01 4.24144865e-01 3.38117143e-01 5.74178690e-01\n",
      "    7.48985117e-01]\n",
      "   [4.99577233e-01 6.63903646e-02 1.21309432e-01 1.56355345e-01\n",
      "    6.45023859e-01]\n",
      "   [3.89554896e-01 3.27066597e-01 3.74293872e-01 3.79040770e-01\n",
      "    8.51817512e-01]]\n",
      "\n",
      "  [[8.08231780e-01 6.62354874e-01 4.25634517e-01 9.34219023e-01\n",
      "    7.19274130e-01]\n",
      "   [8.91406589e-02 5.71428611e-01 5.10582415e-02 2.51955892e-01\n",
      "    3.18174267e-01]\n",
      "   [4.35083671e-01 1.93185407e-01 7.42145748e-01 7.94405670e-01\n",
      "    1.66986865e-01]\n",
      "   [1.75019546e-01 1.04311981e-01 6.59057765e-01 7.66466584e-01\n",
      "    2.31711118e-01]]\n",
      "\n",
      "  [[4.72055977e-01 8.88408786e-01 7.61062235e-01 7.06884208e-01\n",
      "    2.22275302e-01]\n",
      "   [9.49969304e-01 6.26583346e-01 1.90635362e-01 3.64506501e-01\n",
      "    5.08168453e-01]\n",
      "   [5.73055918e-04 6.55119611e-01 1.79757030e-01 1.25089077e-02\n",
      "    6.12225737e-01]\n",
      "   [9.92359126e-01 5.92574729e-02 2.51471689e-01 4.22426942e-01\n",
      "    6.10073819e-02]]]\n",
      "\n",
      "\n",
      " [[[5.15851218e-01 6.92378559e-02 9.75603754e-01 6.87975359e-01\n",
      "    9.65882873e-01]\n",
      "   [9.49220029e-01 6.23786563e-01 7.05559468e-01 7.29265820e-01\n",
      "    8.60704286e-01]\n",
      "   [6.35225803e-01 4.36083769e-02 6.44513375e-01 3.37786931e-01\n",
      "    1.07122467e-01]\n",
      "   [5.36890372e-01 7.34421729e-01 5.35363556e-01 5.38249199e-01\n",
      "    5.00165311e-01]]\n",
      "\n",
      "  [[5.30687773e-01 8.15878530e-01 7.09726065e-01 7.77557309e-01\n",
      "    1.15723421e-01]\n",
      "   [9.30124608e-01 9.39365768e-01 1.31998227e-01 1.77250800e-03\n",
      "    6.68003654e-01]\n",
      "   [7.10623904e-01 6.56912499e-01 4.91727451e-01 5.18617232e-01\n",
      "    1.68029788e-01]\n",
      "   [2.34185031e-01 2.38456897e-01 3.04329806e-01 2.97973570e-01\n",
      "    1.58465816e-01]]\n",
      "\n",
      "  [[5.78788904e-01 4.75584291e-01 8.94643780e-01 2.51396046e-01\n",
      "    9.67657485e-01]\n",
      "   [8.11761782e-01 6.82831410e-01 1.90485544e-01 6.80010893e-01\n",
      "    4.77329432e-01]\n",
      "   [2.77617713e-01 8.87258107e-01 2.78072323e-03 1.70526434e-01\n",
      "    9.81753076e-01]\n",
      "   [3.18061439e-01 6.71536269e-01 4.26715534e-01 5.76730364e-01\n",
      "    8.01967352e-01]]]]\n",
      "Sum over Last Two Axes Shape: (2, 3)\n",
      "Sum over Last Two Axes:\n",
      "[[ 9.42150741  9.09984635  8.93725643]\n",
      " [11.69643435  9.40015986 11.12543658]]\n"
     ]
    }
   ],
   "source": [
    "our_dim_array = np.random.randint(0, 10, size=(2, 3, 4, 5))\n",
    "\n",
    "sum_last_two_axes = np.sum(four_dim_array, axis=(-2, -1))\n",
    "\n",
    "print(\"Original Array Shape:\", four_dim_array.shape)\n",
    "print(\"Original Array:\", four_dim_array)\n",
    "print(\"Sum over Last Two Axes Shape:\", sum_last_two_axes.shape)\n",
    "print(\"Sum over Last Two Axes:\")\n",
    "print(sum_last_two_axes)"
   ]
  },
  {
   "cell_type": "markdown",
   "id": "c4cf083c",
   "metadata": {},
   "source": [
    "#### 68. Considering a one-dimensional vector D, how to compute means of subsets of D using a vector S of same size describing subset  indices? (★★★)"
   ]
  },
  {
   "cell_type": "code",
   "execution_count": null,
   "id": "9600a2dd",
   "metadata": {},
   "outputs": [
    {
     "name": "stdout",
     "output_type": "stream",
     "text": [
      "Vector D:\n",
      "[ 1  2  3  4  5  6  7  8  9 10]\n",
      "\n",
      "Subset Indices S:\n",
      "[0 1 1 2 2 1 0 2 1 0]\n",
      "\n",
      "Subset Means:\n",
      "[6.         5.         5.66666667]\n"
     ]
    }
   ],
   "source": [
    "D = np.array([1, 2, 3, 4, 5, 6, 7, 8, 9, 10])\n",
    "S = np.array([0, 1, 1, 2, 2, 1, 0, 2, 1, 0])\n",
    "\n",
    "unique_indices, counts = np.unique(S, return_counts=True)\n",
    "\n",
    "subset_sums = np.bincount(S, weights=D)\n",
    "\n",
    "subset_means = subset_sums / counts\n",
    "\n",
    "print(\"Vector D:\")\n",
    "print(D)\n",
    "\n",
    "print(\"\\nSubset Indices S:\")\n",
    "print(S)\n",
    "\n",
    "print(\"\\nSubset Means:\")\n",
    "print(subset_means)"
   ]
  },
  {
   "cell_type": "markdown",
   "id": "a5e316db",
   "metadata": {},
   "source": [
    "#### 69. How to get the diagonal of a dot product? (★★★)"
   ]
  },
  {
   "cell_type": "code",
   "execution_count": null,
   "id": "94735dbd",
   "metadata": {},
   "outputs": [
    {
     "name": "stdout",
     "output_type": "stream",
     "text": [
      "Matrix A:\n",
      "[[1 2]\n",
      " [3 4]]\n",
      "\n",
      "Matrix B:\n",
      "[[5 6]\n",
      " [7 8]]\n",
      "\n",
      "Dot Product:\n",
      "[[19 22]\n",
      " [43 50]]\n",
      "\n",
      "Diagonal of Dot Product:\n",
      "[19 50]\n"
     ]
    }
   ],
   "source": [
    "A = np.array([[1, 2],\n",
    "            [3, 4]])\n",
    "\n",
    "B = np.array([[5, 6],\n",
    "            [7, 8]])\n",
    "\n",
    "dot_product = np.dot(A, B)\n",
    "\n",
    "diagonal_of_dot_product = np.diag(dot_product)\n",
    "\n",
    "print(\"Matrix A:\")\n",
    "print(A)\n",
    "\n",
    "print(\"\\nMatrix B:\")\n",
    "print(B)\n",
    "\n",
    "print(\"\\nDot Product:\")\n",
    "print(dot_product)\n",
    "\n",
    "print(\"\\nDiagonal of Dot Product:\")\n",
    "print(diagonal_of_dot_product)"
   ]
  },
  {
   "cell_type": "markdown",
   "id": "de727a7b",
   "metadata": {},
   "source": [
    "#### 70. Consider the vector [1, 2, 3, 4, 5], how to build a new vector with 3 consecutive zeros interleaved between each value? (★★★)"
   ]
  },
  {
   "cell_type": "code",
   "execution_count": null,
   "id": "982be812",
   "metadata": {},
   "outputs": [
    {
     "name": "stdout",
     "output_type": "stream",
     "text": [
      "Original Vector:\n",
      "[1 2 3 4 5]\n",
      "\n",
      "New Vector with 3 Consecutive Zeros Interleaved:\n",
      "[1. 0. 0. 0. 2. 0. 0. 0. 3. 0. 0. 0. 4. 0. 0. 0. 5.]\n"
     ]
    }
   ],
   "source": [
    "original_vector = np.array([1, 2, 3, 4, 5])\n",
    "\n",
    "number_zeros = 3\n",
    "\n",
    "# Build a new vector with three consecutive zeros interleaved\n",
    "new_vector = np.zeros(len(original_vector) + (len(original_vector)-1)*(number_zeros))\n",
    "new_vector[::number_zeros+1] = original_vector\n",
    "\n",
    "print(\"Original Vector:\")\n",
    "print(original_vector)\n",
    "\n",
    "print(\"\\nNew Vector with 3 Consecutive Zeros Interleaved:\")\n",
    "print(new_vector)"
   ]
  },
  {
   "cell_type": "markdown",
   "id": "a9a73d6b",
   "metadata": {},
   "source": [
    "#### 71. Consider an array of dimension (5,5,3), how to mulitply it by an array with dimensions (5,5)? (★★★)"
   ]
  },
  {
   "cell_type": "code",
   "execution_count": null,
   "id": "282a90cc",
   "metadata": {},
   "outputs": [
    {
     "name": "stdout",
     "output_type": "stream",
     "text": [
      "Array with dimensions (5, 5, 3):\n",
      "[[[0.22978873 0.27099109 0.56266104]\n",
      "  [0.61639451 0.5087242  0.49269694]\n",
      "  [0.32110835 0.75378946 0.80254648]\n",
      "  [0.93937621 0.32935812 0.17153979]\n",
      "  [0.01688301 0.4062208  0.40092359]]\n",
      "\n",
      " [[0.75630064 0.64274401 0.84200141]\n",
      "  [0.07223293 0.30821135 0.08268017]\n",
      "  [0.48217662 0.3953607  0.63890198]\n",
      "  [0.02528357 0.89806473 0.94142831]\n",
      "  [0.54193653 0.60359569 0.7596102 ]]\n",
      "\n",
      " [[0.15647509 0.75708513 0.77655829]\n",
      "  [0.23386874 0.35053143 0.61307751]\n",
      "  [0.65740545 0.1698496  0.70439745]\n",
      "  [0.43435011 0.68649365 0.55137358]\n",
      "  [0.67049363 0.60440283 0.07849165]]\n",
      "\n",
      " [[0.74925994 0.063799   0.97472914]\n",
      "  [0.71962006 0.40023197 0.24342401]\n",
      "  [0.89449315 0.79852714 0.43305423]\n",
      "  [0.29800877 0.41559563 0.31538871]\n",
      "  [0.90792539 0.41073797 0.14624647]]\n",
      "\n",
      " [[0.93507661 0.68004077 0.34006649]\n",
      "  [0.61833052 0.10026302 0.93414983]\n",
      "  [0.38560904 0.23210493 0.59881309]\n",
      "  [0.36613925 0.08966407 0.51074077]\n",
      "  [0.71320948 0.18145695 0.60807205]]]\n",
      "\n",
      "Array with dimensions (5, 5):\n",
      "[[0.10839367 0.60589782 0.6227029  0.47232149 0.62285138]\n",
      " [0.43052983 0.30162607 0.63957951 0.44223203 0.23415463]\n",
      " [0.44085538 0.22198794 0.0204147  0.80984732 0.00861193]\n",
      " [0.42668589 0.04841085 0.42671109 0.26006695 0.02888332]\n",
      " [0.50229509 0.34533421 0.68380334 0.16341836 0.61073261]]\n",
      "\n",
      "Result of multiplication:\n",
      "[[[0.02490764 0.02937372 0.0609889 ]\n",
      "  [0.37347209 0.30823489 0.298524  ]\n",
      "  [0.1999551  0.46938688 0.49974802]\n",
      "  [0.44368757 0.15556292 0.08102193]\n",
      "  [0.01051561 0.25301519 0.24971581]]\n",
      "\n",
      " [[0.32560998 0.27672047 0.36250672]\n",
      "  [0.02178734 0.09296458 0.02493849]\n",
      "  [0.30839029 0.25286461 0.40862862]\n",
      "  [0.01118121 0.39715299 0.41632975]\n",
      "  [0.12689695 0.14133473 0.17786625]]\n",
      "\n",
      " [[0.06898288 0.33376505 0.3423499 ]\n",
      "  [0.05191604 0.07781375 0.13609582]\n",
      "  [0.01342074 0.00346743 0.01438006]\n",
      "  [0.35175727 0.55595504 0.44652841]\n",
      "  [0.00577424 0.00520507 0.00067596]]\n",
      "\n",
      " [[0.31969864 0.02722213 0.41590317]\n",
      "  [0.03483742 0.01937557 0.01178436]\n",
      "  [0.38169014 0.34074038 0.18478904]\n",
      "  [0.07750223 0.10808269 0.08202218]\n",
      "  [0.0262239  0.01186348 0.00422408]]\n",
      "\n",
      " [[0.46968439 0.34158114 0.17081373]\n",
      "  [0.21353068 0.03462425 0.3225939 ]\n",
      "  [0.26368075 0.15871413 0.40947039]\n",
      "  [0.05983388 0.01465276 0.08346442]\n",
      "  [0.43558029 0.11082167 0.37136943]]]\n"
     ]
    }
   ],
   "source": [
    "array_3d = np.random.random((5, 5, 3))\n",
    "array_2d = np.random.random((5, 5))\n",
    "\n",
    "# Multiply the arrays using broadcasting\n",
    "result = array_3d * array_2d[:, :, np.newaxis]\n",
    "\n",
    "print(\"Array with dimensions (5, 5, 3):\")\n",
    "print(array_3d)\n",
    "\n",
    "print(\"\\nArray with dimensions (5, 5):\")\n",
    "print(array_2d)\n",
    "\n",
    "print(\"\\nResult of multiplication:\")\n",
    "print(result)"
   ]
  },
  {
   "cell_type": "markdown",
   "id": "a951c78f",
   "metadata": {},
   "source": [
    "#### 72. How to swap two rows of an array? (★★★)"
   ]
  },
  {
   "cell_type": "code",
   "execution_count": null,
   "id": "e29b3fde",
   "metadata": {},
   "outputs": [
    {
     "name": "stdout",
     "output_type": "stream",
     "text": [
      "Original Array:\n",
      "[[1 2 3]\n",
      " [4 5 6]\n",
      " [7 8 9]]\n",
      "\n",
      "Changed Array:\n",
      "[[1 2 3]\n",
      " [7 8 9]\n",
      " [4 5 6]]\n"
     ]
    }
   ],
   "source": [
    "original_array = np.array([[1, 2, 3],\n",
    "                           [4, 5, 6],\n",
    "                           [7, 8, 9]])\n",
    "\n",
    "print(\"Original Array:\")\n",
    "print(original_array)\n",
    "\n",
    "# Swap rows 1 and 2 (0-based indexing)\n",
    "original_array[1], original_array[2] = original_array[2].copy(), original_array[1].copy()\n",
    "\n",
    "print(\"\\nChanged Array:\")\n",
    "print(original_array)"
   ]
  },
  {
   "cell_type": "markdown",
   "id": "43b639e8",
   "metadata": {},
   "source": [
    "#### 73. Consider a set of 10 triplets describing 10 triangles (with shared vertices), find the set of unique line segments composing all the  triangles (★★★)"
   ]
  },
  {
   "cell_type": "code",
   "execution_count": null,
   "id": "147e1034",
   "metadata": {},
   "outputs": [
    {
     "name": "stdout",
     "output_type": "stream",
     "text": [
      "Original Triangles:\n",
      "[[[5 4]\n",
      "  [1 5]\n",
      "  [3 2]]\n",
      "\n",
      " [[7 6]\n",
      "  [5 8]\n",
      "  [4 8]]\n",
      "\n",
      " [[9 8]\n",
      "  [1 3]\n",
      "  [5 3]]\n",
      "\n",
      " [[8 4]\n",
      "  [4 1]\n",
      "  [4 3]]\n",
      "\n",
      " [[2 8]\n",
      "  [7 7]\n",
      "  [8 6]]\n",
      "\n",
      " [[1 1]\n",
      "  [6 7]\n",
      "  [2 5]]\n",
      "\n",
      " [[4 2]\n",
      "  [3 9]\n",
      "  [3 1]]\n",
      "\n",
      " [[7 1]\n",
      "  [1 3]\n",
      "  [8 3]]\n",
      "\n",
      " [[2 9]\n",
      "  [3 9]\n",
      "  [5 7]]\n",
      "\n",
      " [[4 8]\n",
      "  [4 1]\n",
      "  [9 7]]]\n",
      "\n",
      "Unique Line Segments:\n",
      "[[4 3]\n",
      " [3 1]\n",
      " [5 4]\n",
      " [5 7]\n",
      " [8 3]\n",
      " [9 8]\n",
      " [8 6]\n",
      " [2 5]\n",
      " [1 3]\n",
      " [2 8]\n",
      " [7 1]\n",
      " [7 7]\n",
      " [4 2]\n",
      " [3 9]\n",
      " [4 8]\n",
      " [5 3]\n",
      " [9 7]\n",
      " [1 5]\n",
      " [6 7]\n",
      " [7 6]\n",
      " [3 2]\n",
      " [4 1]\n",
      " [8 4]\n",
      " [5 8]\n",
      " [1 1]\n",
      " [2 9]]\n"
     ]
    }
   ],
   "source": [
    "triangles = np.random.randint(1, 10, size=(10, 3, 2))\n",
    "\n",
    "line_segments = triangles.reshape(-1, 2)\n",
    "\n",
    "line_segments_tuples = [tuple(segment) for segment in line_segments]\n",
    "\n",
    "unique_line_segments = set(line_segments_tuples)\n",
    "\n",
    "unique_line_segments_array = np.array(list(unique_line_segments))\n",
    "\n",
    "print(\"Original Triangles:\")\n",
    "print(triangles)\n",
    "\n",
    "print(\"\\nUnique Line Segments:\")\n",
    "print(unique_line_segments_array)"
   ]
  },
  {
   "cell_type": "markdown",
   "id": "d41de585",
   "metadata": {},
   "source": [
    "#### 74. Given a sorted array C that corresponds to a bincount, how to produce an array A such that np.bincount(A) == C? (★★★)"
   ]
  },
  {
   "cell_type": "code",
   "execution_count": null,
   "id": "5f5d6e36",
   "metadata": {},
   "outputs": [
    {
     "name": "stdout",
     "output_type": "stream",
     "text": [
      "Original Sorted Array (C):\n",
      "[0 1 2 0 1 2 3 4 2 1 0]\n",
      "\n",
      "Produced Array (A):\n",
      "[1 2 2 4 5 5 6 6 6 7 7 7 7 8 8 9]\n"
     ]
    }
   ],
   "source": [
    "C = np.array([0, 1, 2, 0, 1, 2, 3, 4, 2, 1, 0])\n",
    "\n",
    "A = np.repeat(np.arange(len(C)), C)\n",
    "\n",
    "print(\"Original Sorted Array (C):\")\n",
    "print(C)\n",
    "\n",
    "print(\"\\nProduced Array (A):\")\n",
    "print(A)"
   ]
  },
  {
   "cell_type": "markdown",
   "id": "b50adf7c",
   "metadata": {},
   "source": [
    "#### 75. How to compute averages using a sliding window over an array? (★★★)"
   ]
  },
  {
   "cell_type": "code",
   "execution_count": null,
   "id": "e631a9d2",
   "metadata": {},
   "outputs": [
    {
     "name": "stdout",
     "output_type": "stream",
     "text": [
      "Original Array:\n",
      "[ 1  2  3  4  5  6  7  8  9 10]\n",
      "\n",
      "Averages with Sliding Window (Size 3):\n",
      "[2. 3. 4. 5. 6. 7. 8. 9.]\n"
     ]
    }
   ],
   "source": [
    "def sliding_window_average(arr, window_size):\n",
    "   window = np.ones(window_size) / window_size\n",
    "   \n",
    "   result = np.convolve(arr, window, mode='valid')\n",
    "    \n",
    "   return result\n",
    "\n",
    "original_array = np.array([1, 2, 3, 4, 5, 6, 7, 8, 9, 10])\n",
    "window_size = 3\n",
    "\n",
    "averages = sliding_window_average(original_array, window_size)\n",
    "\n",
    "print(\"Original Array:\")\n",
    "print(original_array)\n",
    "\n",
    "print(\"\\nAverages with Sliding Window (Size {}):\".format(window_size))\n",
    "print(averages)"
   ]
  },
  {
   "cell_type": "markdown",
   "id": "1ab4c50d",
   "metadata": {},
   "source": [
    "#### 76. Consider a one-dimensional array Z, build a two-dimensional array whose first row is (Z[0],Z[1],Z[2]) and each subsequent row is  shifted by 1 (last row should be (Z[-3],Z[-2],Z[-1]) (★★★)"
   ]
  },
  {
   "cell_type": "code",
   "execution_count": null,
   "id": "3ccfe2c0",
   "metadata": {},
   "outputs": [
    {
     "name": "stdout",
     "output_type": "stream",
     "text": [
      "Original Array (Z):\n",
      "[1 2 3 4 5 6 7]\n",
      "\n",
      "Two-dimensional Array:\n",
      "[[1 2 3 4 5]\n",
      " [2 3 4 5 6]\n",
      " [3 4 5 6 7]]\n"
     ]
    }
   ],
   "source": [
    "Z = np.array([1, 2, 3, 4, 5, 6, 7])\n",
    "\n",
    "result = np.column_stack([Z[i:i+3] for i in range(len(Z)-2)])\n",
    "\n",
    "print(\"Original Array (Z):\")\n",
    "print(Z)\n",
    "\n",
    "print(\"\\nTwo-dimensional Array:\")\n",
    "print(result)"
   ]
  },
  {
   "cell_type": "markdown",
   "id": "5b4fe59d",
   "metadata": {},
   "source": [
    "#### 77. How to negate a boolean, or to change the sign of a float inplace? (★★★)"
   ]
  },
  {
   "cell_type": "code",
   "execution_count": null,
   "id": "3c2373ff",
   "metadata": {},
   "outputs": [
    {
     "name": "stdout",
     "output_type": "stream",
     "text": [
      "Negated Boolean: False\n",
      "Changed Sign of Float: -3.14\n"
     ]
    }
   ],
   "source": [
    "my_boolean = True\n",
    "my_boolean = not my_boolean\n",
    "print(\"Negated Boolean:\", my_boolean)\n",
    "\n",
    "my_float = 3.14\n",
    "my_float = -my_float\n",
    "print(\"Changed Sign of Float:\", my_float)"
   ]
  },
  {
   "cell_type": "markdown",
   "id": "119ab5af",
   "metadata": {},
   "source": [
    "#### 78. Consider 2 sets of points P0,P1 describing lines (2d) and a point p, how to compute distance from p to each line i (P0[i],P1[i])? (★★★)"
   ]
  },
  {
   "cell_type": "code",
   "execution_count": null,
   "id": "1d8d06dc",
   "metadata": {},
   "outputs": [
    {
     "name": "stdout",
     "output_type": "stream",
     "text": [
      "Distances to Lines: [ 8.45043408 25.343923    7.53510827]\n"
     ]
    }
   ],
   "source": [
    "def distance_to_lines(P0, P1, p):\n",
    "   A = P0 - P1\n",
    "   B = p - P1\n",
    "   lengths = np.linalg.norm(A, axis=1)\n",
    "   distances = np.abs(np.cross(A, B)) / lengths\n",
    "   return distances\n",
    "\n",
    "P0 = np.array([[12, 2], [3, 45], [5, 6]])\n",
    "P1 = np.array([[7, 8], [94, 10], [11, 112]])\n",
    "p = np.array([13, 14])\n",
    "\n",
    "distances = distance_to_lines(P0, P1, p)\n",
    "print(\"Distances to Lines:\", distances)"
   ]
  },
  {
   "cell_type": "markdown",
   "id": "e5e7f323",
   "metadata": {},
   "source": [
    "#### 79. Consider 2 sets of points P0,P1 describing lines (2d) and a set of points P, how to compute distance from each point j (P[j]) to each line i (P0[i],P1[i])? (★★★)"
   ]
  },
  {
   "cell_type": "code",
   "execution_count": null,
   "id": "d0ce77e2",
   "metadata": {},
   "outputs": [
    {
     "name": "stdout",
     "output_type": "stream",
     "text": [
      "Distances to Lines:\n",
      "[[ 4.72427878 13.30289458  2.74397736]\n",
      " [ 2.39677486 15.07420391  5.48795472]\n",
      " [ 0.06927095 16.84551325  8.23193209]]\n"
     ]
    }
   ],
   "source": [
    "def distance_to_lines(P0, P1, P):\n",
    "   A = P0 - P1\n",
    "   B = P[:, np.newaxis] - P1\n",
    "   lengths = np.linalg.norm(A, axis=1)\n",
    "   distances = np.abs(np.cross(A, B)) / lengths\n",
    "   return distances\n",
    "\n",
    "P0 = np.array([[1, 21], [3, 45], [5, 22]])\n",
    "P1 = np.array([[72, 8], [9, 100], [11, 12]])\n",
    "P = np.array([[13, 14], [15, 16], [17, 18]])\n",
    "\n",
    "distances = distance_to_lines(P0, P1, P)\n",
    "print(\"Distances to Lines:\")\n",
    "print(distances)"
   ]
  },
  {
   "cell_type": "markdown",
   "id": "9b9d03eb",
   "metadata": {},
   "source": [
    "#### 80. Consider an arbitrary array, write a function that extract a subpart with a fixed shape and centered on a given element (pad with a `fill` value when necessary) (★★★)"
   ]
  },
  {
   "cell_type": "code",
   "execution_count": null,
   "id": "ec2b7ae3",
   "metadata": {},
   "outputs": [
    {
     "name": "stdout",
     "output_type": "stream",
     "text": [
      "Original Array:\n",
      "[[ 1  2  3  4]\n",
      " [ 5  6  7  8]\n",
      " [ 9 10 11 12]]\n",
      "\n",
      "Extracted Subpart:\n",
      "[[ 2  3  4]\n",
      " [ 6  7  8]\n",
      " [10 11 12]]\n"
     ]
    }
   ],
   "source": [
    "original_array = np.array([[1, 2, 3, 4],\n",
    "                           [5, 6, 7, 8],\n",
    "                           [9, 10, 11, 12]])\n",
    "\n",
    "center_element = (1, 2)\n",
    "desired_shape = (3, 3)\n",
    "\n",
    "fill_value = -1\n",
    "\n",
    "center = np.array(center_element)\n",
    "shape = np.array(desired_shape)\n",
    "\n",
    "start_index = np.maximum(center - shape // 2, 0)\n",
    "end_index = start_index + shape\n",
    "\n",
    "subpart = np.full(shape, fill_value)\n",
    "\n",
    "subpart[:min(shape[0], original_array.shape[0] - start_index[0]),\n",
    "      :min(shape[1], original_array.shape[1] - start_index[1])] = original_array[start_index[0]:end_index[0],\n",
    "      start_index[1]:end_index[1]]\n",
    "\n",
    "print(\"Original Array:\")\n",
    "print(original_array)\n",
    "\n",
    "print(\"\\nExtracted Subpart:\")\n",
    "print(subpart)"
   ]
  },
  {
   "cell_type": "markdown",
   "id": "27794913",
   "metadata": {},
   "source": [
    "#### 81. Consider an array Z = [1,2,3,4,5,6,7,8,9,10,11,12,13,14], how to generate an array R = [[1,2,3,4], [2,3,4,5], [3,4,5,6], ..., [11,12,13,14]]? (★★★)"
   ]
  },
  {
   "cell_type": "code",
   "execution_count": 58,
   "id": "f3e7878b",
   "metadata": {},
   "outputs": [
    {
     "name": "stdout",
     "output_type": "stream",
     "text": [
      "Array Z:\n",
      "[ 1  2  3  4  5  6  7  8  9 10 11 12 13 14]\n",
      "\n",
      "Generated Array R:\n",
      "[[ 1  2  3  4]\n",
      " [ 2  3  4  5]\n",
      " [ 3  4  5  6]\n",
      " [ 4  5  6  7]\n",
      " [ 5  6  7  8]\n",
      " [ 6  7  8  9]\n",
      " [ 7  8  9 10]\n",
      " [ 8  9 10 11]\n",
      " [ 9 10 11 12]\n",
      " [10 11 12 13]\n",
      " [11 12 13 14]]\n"
     ]
    }
   ],
   "source": [
    "Z = np.array([1, 2, 3, 4, 5, 6, 7, 8, 9, 10, 11, 12, 13, 14])\n",
    "\n",
    "window_size = 4\n",
    "\n",
    "R = np.lib.stride_tricks.sliding_window_view(Z, window_shape=(window_size,))\n",
    "\n",
    "print(\"Array Z:\")\n",
    "print(Z)\n",
    "\n",
    "print(\"\\nGenerated Array R:\")\n",
    "print(R)"
   ]
  },
  {
   "cell_type": "markdown",
   "id": "fae786f5",
   "metadata": {},
   "source": [
    "#### 82. Compute a matrix rank (★★★)"
   ]
  },
  {
   "cell_type": "code",
   "execution_count": 60,
   "id": "64b9615b",
   "metadata": {},
   "outputs": [
    {
     "name": "stdout",
     "output_type": "stream",
     "text": [
      "Matrix:\n",
      "[[1 2 3]\n",
      " [4 5 6]\n",
      " [7 8 9]]\n",
      "\n",
      "Matrix Rank: 2\n"
     ]
    }
   ],
   "source": [
    "matrix = np.array([[1, 2, 3],\n",
    "                  [4, 5, 6],\n",
    "                  [7, 8, 9]])\n",
    "\n",
    "# Compute the matrix rank\n",
    "rank = np.linalg.matrix_rank(matrix)\n",
    "\n",
    "print(\"Matrix:\")\n",
    "print(matrix)\n",
    "\n",
    "print(\"\\nMatrix Rank:\", rank)"
   ]
  },
  {
   "cell_type": "markdown",
   "id": "c85aa0b9",
   "metadata": {},
   "source": [
    "#### 83. How to find the most frequent value in an array?"
   ]
  },
  {
   "cell_type": "code",
   "execution_count": 61,
   "id": "056be85b",
   "metadata": {},
   "outputs": [
    {
     "name": "stdout",
     "output_type": "stream",
     "text": [
      "Array:\n",
      "[1 2 3 4 2 2 3 1 4 4 4]\n",
      "\n",
      "Most Frequent Value: 4\n"
     ]
    }
   ],
   "source": [
    "arr = np.array([1, 2, 3, 4, 2, 2, 3, 1, 4, 4, 4])\n",
    "\n",
    "most_frequent_value = np.bincount(arr).argmax()\n",
    "\n",
    "print(\"Array:\")\n",
    "print(arr)\n",
    "\n",
    "print(\"\\nMost Frequent Value:\", most_frequent_value)"
   ]
  },
  {
   "cell_type": "markdown",
   "id": "0ff2344d",
   "metadata": {},
   "source": [
    "#### 84. Extract all the contiguous 3x3 blocks from a random 10x10 matrix (★★★)"
   ]
  },
  {
   "cell_type": "code",
   "execution_count": 62,
   "id": "d58b1318",
   "metadata": {},
   "outputs": [
    {
     "name": "stdout",
     "output_type": "stream",
     "text": [
      "Original Matrix:\n",
      "[[8 5 0 3 9 4 7 0 9 6]\n",
      " [9 4 1 7 8 8 9 5 2 9]\n",
      " [6 1 4 9 9 7 7 4 9 0]\n",
      " [3 3 1 7 2 6 9 1 7 3]\n",
      " [0 4 2 6 0 3 5 9 9 1]\n",
      " [6 8 6 4 5 1 9 2 4 6]\n",
      " [4 1 5 3 8 7 5 9 7 2]\n",
      " [5 4 6 7 1 2 9 4 5 1]\n",
      " [1 1 9 0 7 3 0 9 3 8]\n",
      " [3 7 1 1 2 0 7 6 1 1]]\n",
      "\n",
      "Extracted 3x3 Blocks:\n",
      "[[[8 5 0]\n",
      "  [9 4 1]\n",
      "  [6 1 4]]\n",
      "\n",
      " [[5 0 3]\n",
      "  [4 1 7]\n",
      "  [1 4 9]]\n",
      "\n",
      " [[0 3 9]\n",
      "  [1 7 8]\n",
      "  [4 9 9]]\n",
      "\n",
      " [[3 9 4]\n",
      "  [7 8 8]\n",
      "  [9 9 7]]\n",
      "\n",
      " [[9 4 7]\n",
      "  [8 8 9]\n",
      "  [9 7 7]]\n",
      "\n",
      " [[4 7 0]\n",
      "  [8 9 5]\n",
      "  [7 7 4]]\n",
      "\n",
      " [[7 0 9]\n",
      "  [9 5 2]\n",
      "  [7 4 9]]\n",
      "\n",
      " [[0 9 6]\n",
      "  [5 2 9]\n",
      "  [4 9 0]]\n",
      "\n",
      " [[9 4 1]\n",
      "  [6 1 4]\n",
      "  [3 3 1]]\n",
      "\n",
      " [[4 1 7]\n",
      "  [1 4 9]\n",
      "  [3 1 7]]\n",
      "\n",
      " [[1 7 8]\n",
      "  [4 9 9]\n",
      "  [1 7 2]]\n",
      "\n",
      " [[7 8 8]\n",
      "  [9 9 7]\n",
      "  [7 2 6]]\n",
      "\n",
      " [[8 8 9]\n",
      "  [9 7 7]\n",
      "  [2 6 9]]\n",
      "\n",
      " [[8 9 5]\n",
      "  [7 7 4]\n",
      "  [6 9 1]]\n",
      "\n",
      " [[9 5 2]\n",
      "  [7 4 9]\n",
      "  [9 1 7]]\n",
      "\n",
      " [[5 2 9]\n",
      "  [4 9 0]\n",
      "  [1 7 3]]\n",
      "\n",
      " [[6 1 4]\n",
      "  [3 3 1]\n",
      "  [0 4 2]]\n",
      "\n",
      " [[1 4 9]\n",
      "  [3 1 7]\n",
      "  [4 2 6]]\n",
      "\n",
      " [[4 9 9]\n",
      "  [1 7 2]\n",
      "  [2 6 0]]\n",
      "\n",
      " [[9 9 7]\n",
      "  [7 2 6]\n",
      "  [6 0 3]]\n",
      "\n",
      " [[9 7 7]\n",
      "  [2 6 9]\n",
      "  [0 3 5]]\n",
      "\n",
      " [[7 7 4]\n",
      "  [6 9 1]\n",
      "  [3 5 9]]\n",
      "\n",
      " [[7 4 9]\n",
      "  [9 1 7]\n",
      "  [5 9 9]]\n",
      "\n",
      " [[4 9 0]\n",
      "  [1 7 3]\n",
      "  [9 9 1]]\n",
      "\n",
      " [[3 3 1]\n",
      "  [0 4 2]\n",
      "  [6 8 6]]\n",
      "\n",
      " [[3 1 7]\n",
      "  [4 2 6]\n",
      "  [8 6 4]]\n",
      "\n",
      " [[1 7 2]\n",
      "  [2 6 0]\n",
      "  [6 4 5]]\n",
      "\n",
      " [[7 2 6]\n",
      "  [6 0 3]\n",
      "  [4 5 1]]\n",
      "\n",
      " [[2 6 9]\n",
      "  [0 3 5]\n",
      "  [5 1 9]]\n",
      "\n",
      " [[6 9 1]\n",
      "  [3 5 9]\n",
      "  [1 9 2]]\n",
      "\n",
      " [[9 1 7]\n",
      "  [5 9 9]\n",
      "  [9 2 4]]\n",
      "\n",
      " [[1 7 3]\n",
      "  [9 9 1]\n",
      "  [2 4 6]]\n",
      "\n",
      " [[0 4 2]\n",
      "  [6 8 6]\n",
      "  [4 1 5]]\n",
      "\n",
      " [[4 2 6]\n",
      "  [8 6 4]\n",
      "  [1 5 3]]\n",
      "\n",
      " [[2 6 0]\n",
      "  [6 4 5]\n",
      "  [5 3 8]]\n",
      "\n",
      " [[6 0 3]\n",
      "  [4 5 1]\n",
      "  [3 8 7]]\n",
      "\n",
      " [[0 3 5]\n",
      "  [5 1 9]\n",
      "  [8 7 5]]\n",
      "\n",
      " [[3 5 9]\n",
      "  [1 9 2]\n",
      "  [7 5 9]]\n",
      "\n",
      " [[5 9 9]\n",
      "  [9 2 4]\n",
      "  [5 9 7]]\n",
      "\n",
      " [[9 9 1]\n",
      "  [2 4 6]\n",
      "  [9 7 2]]\n",
      "\n",
      " [[6 8 6]\n",
      "  [4 1 5]\n",
      "  [5 4 6]]\n",
      "\n",
      " [[8 6 4]\n",
      "  [1 5 3]\n",
      "  [4 6 7]]\n",
      "\n",
      " [[6 4 5]\n",
      "  [5 3 8]\n",
      "  [6 7 1]]\n",
      "\n",
      " [[4 5 1]\n",
      "  [3 8 7]\n",
      "  [7 1 2]]\n",
      "\n",
      " [[5 1 9]\n",
      "  [8 7 5]\n",
      "  [1 2 9]]\n",
      "\n",
      " [[1 9 2]\n",
      "  [7 5 9]\n",
      "  [2 9 4]]\n",
      "\n",
      " [[9 2 4]\n",
      "  [5 9 7]\n",
      "  [9 4 5]]\n",
      "\n",
      " [[2 4 6]\n",
      "  [9 7 2]\n",
      "  [4 5 1]]\n",
      "\n",
      " [[4 1 5]\n",
      "  [5 4 6]\n",
      "  [1 1 9]]\n",
      "\n",
      " [[1 5 3]\n",
      "  [4 6 7]\n",
      "  [1 9 0]]\n",
      "\n",
      " [[5 3 8]\n",
      "  [6 7 1]\n",
      "  [9 0 7]]\n",
      "\n",
      " [[3 8 7]\n",
      "  [7 1 2]\n",
      "  [0 7 3]]\n",
      "\n",
      " [[8 7 5]\n",
      "  [1 2 9]\n",
      "  [7 3 0]]\n",
      "\n",
      " [[7 5 9]\n",
      "  [2 9 4]\n",
      "  [3 0 9]]\n",
      "\n",
      " [[5 9 7]\n",
      "  [9 4 5]\n",
      "  [0 9 3]]\n",
      "\n",
      " [[9 7 2]\n",
      "  [4 5 1]\n",
      "  [9 3 8]]\n",
      "\n",
      " [[5 4 6]\n",
      "  [1 1 9]\n",
      "  [3 7 1]]\n",
      "\n",
      " [[4 6 7]\n",
      "  [1 9 0]\n",
      "  [7 1 1]]\n",
      "\n",
      " [[6 7 1]\n",
      "  [9 0 7]\n",
      "  [1 1 2]]\n",
      "\n",
      " [[7 1 2]\n",
      "  [0 7 3]\n",
      "  [1 2 0]]\n",
      "\n",
      " [[1 2 9]\n",
      "  [7 3 0]\n",
      "  [2 0 7]]\n",
      "\n",
      " [[2 9 4]\n",
      "  [3 0 9]\n",
      "  [0 7 6]]\n",
      "\n",
      " [[9 4 5]\n",
      "  [0 9 3]\n",
      "  [7 6 1]]\n",
      "\n",
      " [[4 5 1]\n",
      "  [9 3 8]\n",
      "  [6 1 1]]]\n"
     ]
    }
   ],
   "source": [
    "matrix = np.random.randint(0, 10, size=(10, 10))\n",
    "\n",
    "block_size = 3\n",
    "\n",
    "# Extract all contiguous 3x3 blocks\n",
    "blocks = []\n",
    "for i in range(matrix.shape[0] - block_size + 1):\n",
    "   for j in range(matrix.shape[1] - block_size + 1):\n",
    "      block = matrix[i:i+block_size, j:j+block_size]\n",
    "      blocks.append(block)\n",
    "\n",
    "blocks_array = np.array(blocks)\n",
    "\n",
    "print(\"Original Matrix:\")\n",
    "print(matrix)\n",
    "\n",
    "print(\"\\nExtracted 3x3 Blocks:\")\n",
    "print(blocks_array)"
   ]
  },
  {
   "cell_type": "markdown",
   "id": "1a18b263",
   "metadata": {},
   "source": [
    "#### 85. Create a 2D array subclass such that Z[i,j] == Z[j,i] (★★★)"
   ]
  },
  {
   "cell_type": "code",
   "execution_count": 67,
   "id": "87f17adc",
   "metadata": {},
   "outputs": [
    {
     "name": "stdout",
     "output_type": "stream",
     "text": [
      "Symmetric Array:\n",
      "[[  0   0   0   0   0]\n",
      " [  1   0  42   0   0]\n",
      " [  0  42   0   0   0]\n",
      " [  0   0   3   0 100]\n",
      " [  0   0   0 100   0]]\n"
     ]
    }
   ],
   "source": [
    "class SymmetricArray(np.ndarray):\n",
    "   def __setitem__(self, index, value):\n",
    "      i, j = index\n",
    "      super().__setitem__((i, j), value)\n",
    "      super().__setitem__((j, i), value)\n",
    "\n",
    "size = 5\n",
    "symmetric_array = SymmetricArray((size, size), dtype=int)\n",
    "\n",
    "symmetric_array[1, 2] = 42\n",
    "symmetric_array[3, 4] = 100\n",
    "\n",
    "print(\"Symmetric Array:\")\n",
    "print(symmetric_array)"
   ]
  },
  {
   "cell_type": "markdown",
   "id": "f85f2cad",
   "metadata": {},
   "source": [
    "#### 86. Consider a set of p matrices wich shape (n,n) and a set of p vectors with shape (n,1). How to compute the sum of of the p matrix products at once? (result has shape (n,1)) (★★★)"
   ]
  },
  {
   "cell_type": "code",
   "execution_count": 68,
   "id": "8d230557",
   "metadata": {},
   "outputs": [
    {
     "name": "stdout",
     "output_type": "stream",
     "text": [
      "Matrices:\n",
      "[array([[0.93350522, 0.15629745, 0.31210617, 0.76236354],\n",
      "       [0.5501482 , 0.33766177, 0.8131126 , 0.25748513],\n",
      "       [0.87215473, 0.51205448, 0.28723696, 0.65437023],\n",
      "       [0.31805049, 0.13095267, 0.03057191, 0.74829641]]), array([[0.12808697, 0.19948958, 0.54950975, 0.41817807],\n",
      "       [0.1285066 , 0.70075459, 0.081592  , 0.98652989],\n",
      "       [0.26465059, 0.93817729, 0.33002723, 0.52845916],\n",
      "       [0.62213967, 0.90575776, 0.75059712, 0.40589884]]), array([[0.22349236, 0.88865027, 0.92992201, 0.75403561],\n",
      "       [0.86865397, 0.36298345, 0.44840252, 0.03379019],\n",
      "       [0.2345759 , 0.74413906, 0.4282366 , 0.9988176 ],\n",
      "       [0.07698287, 0.72670174, 0.18542542, 0.75201373]])]\n",
      "\n",
      "Vectors:\n",
      "[array([[0.14577813],\n",
      "       [0.14039311],\n",
      "       [0.05032261],\n",
      "       [0.35460364]]), array([[0.20444406],\n",
      "       [0.69772117],\n",
      "       [0.19270497],\n",
      "       [0.17707162]]), array([[0.87149753],\n",
      "       [0.25526879],\n",
      "       [0.38649725],\n",
      "       [0.89227508]])]\n",
      "\n",
      "Result (Sum of Matrix Products):\n",
      "[[2.24322328]\n",
      " [2.01858604]\n",
      " [2.76251212]\n",
      " [2.30257701]]\n"
     ]
    },
    {
     "name": "stderr",
     "output_type": "stream",
     "text": [
      "C:\\Users\\Asus\\AppData\\Local\\Temp\\ipykernel_1320\\659244810.py:7: DeprecationWarning: Calling np.sum(generator) is deprecated, and in the future will give a different result. Use np.sum(np.fromiter(generator)) or the python sum builtin instead.\n",
      "  result = sum(np.dot(matrices[i], vectors[i]) for i in range(p))\n"
     ]
    }
   ],
   "source": [
    "p = 3\n",
    "n = 4\n",
    "matrices = [np.random.rand(n, n) for _ in range(p)]\n",
    "\n",
    "vectors = [np.random.rand(n, 1) for _ in range(p)]\n",
    "\n",
    "result = sum(np.dot(matrices[i], vectors[i]) for i in range(p))\n",
    "\n",
    "print(\"Matrices:\")\n",
    "print(matrices)\n",
    "\n",
    "print(\"\\nVectors:\")\n",
    "print(vectors)\n",
    "\n",
    "print(\"\\nResult (Sum of Matrix Products):\")\n",
    "print(result)"
   ]
  },
  {
   "cell_type": "markdown",
   "id": "5afb72c8",
   "metadata": {},
   "source": [
    "#### 87. Consider a 16x16 array, how to get the block-sum (block size is 4x4)? (★★★)"
   ]
  },
  {
   "cell_type": "code",
   "execution_count": 69,
   "id": "e86f47a9",
   "metadata": {},
   "outputs": [
    {
     "name": "stdout",
     "output_type": "stream",
     "text": [
      "Original 16x16 Array:\n",
      "[[0.70479317 0.21142862 0.18904792 0.8737043  0.73281512 0.94297112\n",
      "  0.78288057 0.25620604 0.49816049 0.45726294 0.52608654 0.10023352\n",
      "  0.0195577  0.01506976 0.07969956 0.61438195]\n",
      " [0.04831237 0.02562671 0.40106815 0.57710268 0.83699264 0.07851684\n",
      "  0.588879   0.30816398 0.85474518 0.04211015 0.844006   0.31660361\n",
      "  0.04010999 0.32766183 0.69061771 0.29069581]\n",
      " [0.82886829 0.45203907 0.13201988 0.90603684 0.81177352 0.14010272\n",
      "  0.40886824 0.1606274  0.47593215 0.00269834 0.93560155 0.91937485\n",
      "  0.49351985 0.32835798 0.66713044 0.28438966]\n",
      " [0.29568625 0.44861821 0.16153177 0.39998943 0.55431464 0.14009667\n",
      "  0.17007656 0.14202922 0.95545675 0.63768416 0.25945695 0.36365919\n",
      "  0.19614849 0.32741232 0.82996824 0.85459386]\n",
      " [0.17533945 0.53953992 0.36879193 0.60715013 0.44433485 0.33326698\n",
      "  0.17390413 0.65795901 0.26379403 0.91250555 0.12754217 0.61243857\n",
      "  0.97142109 0.87234701 0.96467542 0.00783457]\n",
      " [0.97625305 0.05695304 0.37056848 0.71078338 0.71307755 0.43606043\n",
      "  0.89262133 0.76621878 0.19204423 0.73738993 0.24778387 0.84595207\n",
      "  0.17693648 0.99902755 0.3286827  0.52982772]\n",
      " [0.64077699 0.03175118 0.3266928  0.92671925 0.31650413 0.74720856\n",
      "  0.43093233 0.275376   0.69989697 0.3619151  0.85677932 0.90787792\n",
      "  0.50170803 0.6725411  0.03060751 0.0417311 ]\n",
      " [0.59241691 0.2785656  0.45930707 0.00746321 0.69263225 0.64038825\n",
      "  0.30681732 0.48160935 0.43610172 0.35362616 0.36079651 0.61545339\n",
      "  0.04960297 0.09420808 0.98132045 0.17285601]\n",
      " [0.07817199 0.58649615 0.99847907 0.98038145 0.11422484 0.23205061\n",
      "  0.969938   0.18933838 0.07771382 0.9279335  0.27045229 0.58241038\n",
      "  0.10121823 0.44178927 0.24611968 0.24796397]\n",
      " [0.70682312 0.17478649 0.24089214 0.9519539  0.13126243 0.05492524\n",
      "  0.25692162 0.21110919 0.08440407 0.90852062 0.27639458 0.73231198\n",
      "  0.91169041 0.44728469 0.86573988 0.12263575]\n",
      " [0.97051736 0.6603631  0.8991118  0.19329545 0.66947517 0.1487519\n",
      "  0.42722637 0.02008965 0.95891347 0.68818717 0.73713932 0.71649835\n",
      "  0.6958881  0.7029337  0.66748256 0.72645988]\n",
      " [0.71559097 0.8635287  0.13630777 0.5392182  0.79560246 0.29690322\n",
      "  0.81018378 0.07819043 0.14583768 0.73451626 0.25240471 0.79156854\n",
      "  0.38577799 0.93847782 0.12939581 0.62338041]\n",
      " [0.49095291 0.94791212 0.97265029 0.26302798 0.56964289 0.31675158\n",
      "  0.32595648 0.47918552 0.76258321 0.58981619 0.25341274 0.01383633\n",
      "  0.70353011 0.55486459 0.61204097 0.06550689]\n",
      " [0.28521592 0.72074842 0.58131444 0.64272564 0.10177679 0.5262399\n",
      "  0.94496487 0.3386335  0.17575999 0.29012901 0.85986839 0.68255597\n",
      "  0.93470957 0.60554359 0.03178376 0.13224287]\n",
      " [0.21893269 0.03471009 0.7637535  0.82592862 0.9470583  0.99687319\n",
      "  0.87689563 0.12329976 0.2728591  0.06401008 0.19853979 0.29230504\n",
      "  0.74161789 0.03671083 0.88419436 0.28535415]\n",
      " [0.06884869 0.3667751  0.4493453  0.97469133 0.71292895 0.81850389\n",
      "  0.93901238 0.19193531 0.32248365 0.33274906 0.92835066 0.92375403\n",
      "  0.62200883 0.89150564 0.02561351 0.77728747]]\n",
      "\n",
      "Block-Sum (Block Size 4x4):\n",
      "[[7.00429932 6.27121263 7.94734077 6.7367227 ]\n",
      " [8.0328448  8.9801806  7.76901829 6.52316526]\n",
      " [7.04468163 7.07765611 9.88233335 8.23688472]\n",
      " [7.92167079 7.85421264 7.56304303 9.34579379]]\n"
     ]
    }
   ],
   "source": [
    "array_16x16 = np.random.rand(16, 16)\n",
    "\n",
    "block_size = 4\n",
    "\n",
    "reshaped_array = array_16x16.reshape((4, 4, block_size, block_size))\n",
    "\n",
    "block_sum = reshaped_array.sum(axis=(2, 3))\n",
    "\n",
    "print(\"Original 16x16 Array:\")\n",
    "print(array_16x16)\n",
    "\n",
    "print(\"\\nBlock-Sum (Block Size 4x4):\")\n",
    "print(block_sum)"
   ]
  },
  {
   "cell_type": "markdown",
   "id": "6094d37c",
   "metadata": {},
   "source": [
    "#### 88. How to implement the Game of Life using numpy arrays? (★★★)"
   ]
  },
  {
   "cell_type": "code",
   "execution_count": 73,
   "id": "a93e715f",
   "metadata": {},
   "outputs": [
    {
     "name": "stderr",
     "output_type": "stream",
     "text": [
      "C:\\Users\\Asus\\AppData\\Local\\Temp\\ipykernel_1320\\358864212.py:40: UserWarning: You passed in an explicit save_count=50 which is being ignored in favor of frames=10.\n",
      "  ani = animation.FuncAnimation(fig, update, fargs=(img, grid, N),\n"
     ]
    },
    {
     "data": {
      "image/png": "[encoded data removed]",
      "text/plain": [
       "<Figure size 640x480 with 1 Axes>"
      ]
     },
     "metadata": {},
     "output_type": "display_data"
    }
   ],
   "source": [
    "import matplotlib.animation as animation\n",
    "\n",
    "def update(frameNum, img, grid, N):\n",
    "    newGrid = grid.copy()\n",
    "\n",
    "    for i in range(N):\n",
    "        for j in range(N):\n",
    "            # Count live neighbors\n",
    "            total = int((grid[i, (j-1)%N] + grid[i, (j+1)%N] +\n",
    "                        grid[(i-1)%N, j] + grid[(i+1)%N, j] +\n",
    "                        grid[(i-1)%N, (j-1)%N] + grid[(i-1)%N, (j+1)%N] +\n",
    "                        grid[(i+1)%N, (j-1)%N] + grid[(i+1)%N, (j+1)%N])/255)\n",
    "\n",
    "            # Apply rules\n",
    "            if grid[i, j] == ON:\n",
    "                if (total < 2) or (total > 3):\n",
    "                    newGrid[i, j] = OFF\n",
    "            else:\n",
    "                if total == 3:\n",
    "                    newGrid[i, j] = ON\n",
    "\n",
    "    img.set_data(newGrid)\n",
    "    grid[:] = newGrid[:]\n",
    "    return img\n",
    "\n",
    "ON = 255\n",
    "OFF = 0\n",
    "N = 100  \n",
    "updateInterval = 50  \n",
    "\n",
    "grid = np.random.choice([ON, OFF], N*N, p=[0.2, 0.8]).reshape(N, N)\n",
    "\n",
    "fig, ax = plt.subplots()\n",
    "img = ax.imshow(grid, interpolation='nearest')\n",
    "ani = animation.FuncAnimation(fig, update, fargs=(img, grid, N),\n",
    "                            frames=10,\n",
    "                            interval=updateInterval,\n",
    "                            save_count=50)\n",
    "\n",
    "plt.show()"
   ]
  },
  {
   "cell_type": "markdown",
   "id": "a173cf96",
   "metadata": {},
   "source": [
    "#### 89. How to get the n largest values of an array (★★★)"
   ]
  },
  {
   "cell_type": "code",
   "execution_count": 74,
   "id": "b7c2ff35",
   "metadata": {},
   "outputs": [
    {
     "name": "stdout",
     "output_type": "stream",
     "text": [
      "Original Array:\n",
      "[3 1 4 1 5 9 2 6 5 3 5]\n",
      "\n",
      "3 Largest Values:\n",
      "[5 6 9]\n"
     ]
    }
   ],
   "source": [
    "arr = np.array([3, 1, 4, 1, 5, 9, 2, 6, 5, 3, 5])\n",
    "\n",
    "n_largest = 3\n",
    "\n",
    "largest_values = np.partition(arr, -n_largest)[-n_largest:]\n",
    "\n",
    "print(\"Original Array:\")\n",
    "print(arr)\n",
    "\n",
    "print(\"\\n{} Largest Values:\".format(n_largest))\n",
    "print(largest_values)"
   ]
  },
  {
   "cell_type": "markdown",
   "id": "15db2d01",
   "metadata": {},
   "source": [
    "#### 90. Given an arbitrary number of vectors, build the cartesian product (every combinations of every item) (★★★)"
   ]
  },
  {
   "cell_type": "code",
   "execution_count": 75,
   "id": "a9a4633d",
   "metadata": {},
   "outputs": [
    {
     "name": "stdout",
     "output_type": "stream",
     "text": [
      "Vector 1: [1, 2]\n",
      "Vector 2: ['a', 'b', 'c']\n",
      "Vector 3: [10, 20]\n",
      "\n",
      "Cartesian Product:\n",
      "[(1, 'a', 10), (1, 'a', 20), (1, 'b', 10), (1, 'b', 20), (1, 'c', 10), (1, 'c', 20), (2, 'a', 10), (2, 'a', 20), (2, 'b', 10), (2, 'b', 20), (2, 'c', 10), (2, 'c', 20)]\n"
     ]
    }
   ],
   "source": [
    "from itertools import product\n",
    "\n",
    "vector1 = [1, 2]\n",
    "vector2 = ['a', 'b', 'c']\n",
    "vector3 = [10, 20]\n",
    "\n",
    "cartesian_product = list(product(vector1, vector2, vector3))\n",
    "\n",
    "print(\"Vector 1:\", vector1)\n",
    "print(\"Vector 2:\", vector2)\n",
    "print(\"Vector 3:\", vector3)\n",
    "\n",
    "print(\"\\nCartesian Product:\")\n",
    "print(cartesian_product)"
   ]
  },
  {
   "cell_type": "markdown",
   "id": "5d94d1ef",
   "metadata": {},
   "source": [
    "#### 91. How to create a record array from a regular array? (★★★)"
   ]
  },
  {
   "cell_type": "code",
   "execution_count": 76,
   "id": "b1dae380",
   "metadata": {},
   "outputs": [
    {
     "name": "stdout",
     "output_type": "stream",
     "text": [
      "Regular Array:\n",
      "[[1 'Alice' 25]\n",
      " [2 'Bob' 30]\n",
      " [3 'Charlie' 22]]\n",
      "\n",
      "Record Array:\n",
      "[(1, 'Alice', 25) (2, 'Bob', 30) (3, 'Charlie', 22)]\n"
     ]
    }
   ],
   "source": [
    "regular_array = np.array([[1, 'Alice', 25],\n",
    "                        [2, 'Bob', 30],\n",
    "                        [3, 'Charlie', 22]],\n",
    "                        dtype=object)\n",
    "\n",
    "dtype = [('ID', int), ('Name', 'U10'), ('Age', int)]\n",
    "record_array = np.core.records.fromarrays(regular_array.T, dtype=dtype)\n",
    "\n",
    "print(\"Regular Array:\")\n",
    "print(regular_array)\n",
    "\n",
    "print(\"\\nRecord Array:\")\n",
    "print(record_array)"
   ]
  },
  {
   "cell_type": "markdown",
   "id": "114ccc36",
   "metadata": {},
   "source": [
    "#### 92. Consider a large vector Z, compute Z to the power of 3 using 3 different methods (★★★)"
   ]
  },
  {
   "cell_type": "code",
   "execution_count": 77,
   "id": "877c65d6",
   "metadata": {},
   "outputs": [
    {
     "name": "stdout",
     "output_type": "stream",
     "text": [
      "Method 1 Result:\n",
      "[4.12217229e-03 8.78428601e-01 1.75121908e-01 9.51921398e-01\n",
      " 3.08938050e-01 6.56094129e-05 1.26604353e-04 8.08584997e-02\n",
      " 6.03718474e-02 7.73454085e-02]\n",
      "\n",
      "Method 2 Result:\n",
      "[4.12217229e-03 8.78428601e-01 1.75121908e-01 9.51921398e-01\n",
      " 3.08938050e-01 6.56094129e-05 1.26604353e-04 8.08584997e-02\n",
      " 6.03718474e-02 7.73454085e-02]\n",
      "\n",
      "Method 3 Result:\n",
      "[4.12217229e-03 8.78428601e-01 1.75121908e-01 9.51921398e-01\n",
      " 3.08938050e-01 6.56094129e-05 1.26604353e-04 8.08584997e-02\n",
      " 6.03718474e-02 7.73454085e-02]\n"
     ]
    }
   ],
   "source": [
    "Z = np.random.rand(1000000)\n",
    "\n",
    "result_method1 = Z ** 3\n",
    "print(\"Method 1 Result:\")\n",
    "print(result_method1[:10]) \n",
    "\n",
    "result_method2 = np.power(Z, 3)\n",
    "print(\"\\nMethod 2 Result:\")\n",
    "print(result_method2[:10])\n",
    "\n",
    "result_method3 = np.multiply(Z, np.multiply(Z, Z))\n",
    "print(\"\\nMethod 3 Result:\")\n",
    "print(result_method3[:10])"
   ]
  },
  {
   "cell_type": "markdown",
   "id": "d614fee4",
   "metadata": {},
   "source": [
    "#### 93. Consider two arrays A and B of shape (8,3) and (2,2). How to find rows of A that contain elements of each row of B regardless of the order of the elements in B? (★★★)"
   ]
  },
  {
   "cell_type": "code",
   "execution_count": 79,
   "id": "e6807a84",
   "metadata": {},
   "outputs": [
    {
     "name": "stdout",
     "output_type": "stream",
     "text": [
      "Array A:\n",
      "[[ 1  2  3]\n",
      " [ 4  5  6]\n",
      " [ 7  8  9]\n",
      " [ 1  2  3]\n",
      " [10 11 12]\n",
      " [ 7  9  8]\n",
      " [ 4  6  5]\n",
      " [13 14 15]]\n",
      "\n",
      "Array B:\n",
      "[[1 2]\n",
      " [3 4]]\n",
      "\n",
      "Rows of A containing elements of each row of B:\n",
      "[0 3]\n"
     ]
    }
   ],
   "source": [
    "A = np.array([[1, 2, 3],\n",
    "            [4, 5, 6],\n",
    "            [7, 8, 9],\n",
    "            [1, 2, 3],\n",
    "            [10, 11, 12],\n",
    "            [7, 9, 8],\n",
    "            [4, 6, 5],\n",
    "            [13, 14, 15]])\n",
    "\n",
    "B = np.array([[1, 2],\n",
    "            [3, 4]])\n",
    "\n",
    "result = np.all(np.isin(A, B), axis=1)\n",
    "\n",
    "matching_rows_indices = np.where(result)[0]\n",
    "\n",
    "print(\"Array A:\")\n",
    "print(A)\n",
    "\n",
    "print(\"\\nArray B:\")\n",
    "print(B)\n",
    "\n",
    "print(\"\\nRows of A containing elements of each row of B:\")\n",
    "print(matching_rows_indices)"
   ]
  },
  {
   "cell_type": "markdown",
   "id": "b0eedca6",
   "metadata": {},
   "source": [
    "#### 94. Considering a 10x3 matrix, extract rows with unequal values (e.g. [2,2,3]) (★★★)"
   ]
  },
  {
   "cell_type": "code",
   "execution_count": 80,
   "id": "fc136ce2",
   "metadata": {},
   "outputs": [
    {
     "name": "stdout",
     "output_type": "stream",
     "text": [
      "Original Matrix:\n",
      "[[ 1  2  3]\n",
      " [ 2  2  2]\n",
      " [ 4  5  6]\n",
      " [ 7  7  7]\n",
      " [ 8  8  9]\n",
      " [10 10 10]\n",
      " [11 12 12]\n",
      " [13 13 13]\n",
      " [14 14 15]\n",
      " [16 17 18]]\n",
      "\n",
      "Rows with Unequal Values:\n",
      "[[ 1  2  3]\n",
      " [ 4  5  6]\n",
      " [ 8  8  9]\n",
      " [11 12 12]\n",
      " [14 14 15]\n",
      " [16 17 18]]\n"
     ]
    }
   ],
   "source": [
    "matrix = np.array([[1, 2, 3],\n",
    "                  [2, 2, 2],\n",
    "                  [4, 5, 6],\n",
    "                  [7, 7, 7],\n",
    "                  [8, 8, 9],\n",
    "                  [10, 10, 10],\n",
    "                  [11, 12, 12],\n",
    "                  [13, 13, 13],\n",
    "                  [14, 14, 15],\n",
    "                  [16, 17, 18]])\n",
    "\n",
    "unequal_rows_mask = (matrix[:, 0] != matrix[:, 1]) | (matrix[:, 1] != matrix[:, 2]) | (matrix[:, 0] != matrix[:, 2])\n",
    "\n",
    "unequal_rows = matrix[unequal_rows_mask]\n",
    "\n",
    "print(\"Original Matrix:\")\n",
    "print(matrix)\n",
    "\n",
    "print(\"\\nRows with Unequal Values:\")\n",
    "print(unequal_rows)"
   ]
  },
  {
   "cell_type": "markdown",
   "id": "a65ec1cf",
   "metadata": {},
   "source": [
    "#### 95. Convert a vector of ints into a matrix binary representation (★★★)"
   ]
  },
  {
   "cell_type": "code",
   "execution_count": 82,
   "id": "323cdf4c",
   "metadata": {},
   "outputs": [
    {
     "name": "stdout",
     "output_type": "stream",
     "text": [
      "Vector of Integers:\n",
      "[ 5 10  3  7]\n",
      "\n",
      "Binary Matrix Representation:\n",
      "[[0 1 0 1]\n",
      " [1 0 1 0]\n",
      " [0 0 1 1]\n",
      " [0 1 1 1]]\n"
     ]
    }
   ],
   "source": [
    "vector_of_ints = np.array([5, 10, 3, 7])\n",
    "\n",
    "max_digits = int(np.ceil(np.log2(np.max(vector_of_ints) + 1)))\n",
    "\n",
    "binary_matrix = np.array([list(format(x, f'0{max_digits}b')) for x in vector_of_ints], dtype=int)\n",
    "\n",
    "print(\"Vector of Integers:\")\n",
    "print(vector_of_ints)\n",
    "\n",
    "print(\"\\nBinary Matrix Representation:\")\n",
    "print(binary_matrix)"
   ]
  },
  {
   "cell_type": "markdown",
   "id": "75b9397f",
   "metadata": {},
   "source": [
    "#### 96. Given a two dimensional array, how to extract unique rows? (★★★)"
   ]
  },
  {
   "cell_type": "code",
   "execution_count": 83,
   "id": "9bb56a47",
   "metadata": {},
   "outputs": [
    {
     "name": "stdout",
     "output_type": "stream",
     "text": [
      "Original Array:\n",
      "[[1 2 3]\n",
      " [4 5 6]\n",
      " [1 2 3]\n",
      " [7 8 9]\n",
      " [4 5 6]]\n",
      "\n",
      "Unique Rows:\n",
      "[[1 1 1]\n",
      " [2 2 2]\n",
      " [3 3 3]\n",
      " [4 4 4]\n",
      " [5 5 5]\n",
      " [6 6 6]\n",
      " [7 7 7]\n",
      " [8 8 8]\n",
      " [9 9 9]]\n"
     ]
    }
   ],
   "source": [
    "two_dim_array = np.array([[1, 2, 3],\n",
    "                        [4, 5, 6],\n",
    "                        [1, 2, 3],\n",
    "                        [7, 8, 9],\n",
    "                        [4, 5, 6]])\n",
    "\n",
    "structured_array = np.array(two_dim_array, dtype=[('x', int), ('y', int), ('z', int)])\n",
    "\n",
    "unique_rows = np.unique(structured_array)\n",
    "\n",
    "unique_rows_array = np.array(unique_rows.tolist())\n",
    "\n",
    "print(\"Original Array:\")\n",
    "print(two_dim_array)\n",
    "\n",
    "print(\"\\nUnique Rows:\")\n",
    "print(unique_rows_array)"
   ]
  },
  {
   "cell_type": "markdown",
   "id": "82aaf21b",
   "metadata": {},
   "source": [
    "#### 97. Considering 2 vectors A & B, write the einsum equivalent of inner, outer, sum, and mul function (★★★)"
   ]
  },
  {
   "cell_type": "code",
   "execution_count": 96,
   "id": "cedcefd9",
   "metadata": {},
   "outputs": [
    {
     "name": "stdout",
     "output_type": "stream",
     "text": [
      "Inner product of A and B: 32\n",
      "\n",
      "Outer product of A and B:\n",
      "[[ 4  5  6]\n",
      " [ 8 10 12]\n",
      " [12 15 18]]\n",
      "\n",
      "Element-wise sum of A:\n",
      "6\n",
      "\n",
      "Element-wise multiplication of A and B:\n",
      "[ 4 10 18]\n"
     ]
    }
   ],
   "source": [
    "A = np.array([1, 2, 3])\n",
    "B = np.array([4, 5, 6])\n",
    "\n",
    "inner_product = np.einsum('i,i', A, B)\n",
    "print(f'Inner product of A and B: {inner_product}')\n",
    "\n",
    "outer_product = np.einsum('i,j->ij', A, B)\n",
    "print('\\nOuter product of A and B:')\n",
    "print(outer_product)\n",
    "\n",
    "elementwise_sum = np.einsum('i->', A)\n",
    "print('\\nElement-wise sum of A:')\n",
    "print(elementwise_sum)\n",
    "\n",
    "elementwise_multiplication = np.einsum('i,i->i', A, B)\n",
    "print('\\nElement-wise multiplication of A and B:')\n",
    "print(elementwise_multiplication)"
   ]
  },
  {
   "cell_type": "markdown",
   "id": "7741e17f",
   "metadata": {},
   "source": [
    "#### 98. Considering a path described by two vectors (X,Y), how to sample it using equidistant samples (★★★)?"
   ]
  },
  {
   "cell_type": "code",
   "execution_count": 97,
   "id": "0b2432fe",
   "metadata": {},
   "outputs": [
    {
     "data": {
      "image/png": "[encoded data removed]",
      "text/plain": [
       "<Figure size 640x480 with 1 Axes>"
      ]
     },
     "metadata": {},
     "output_type": "display_data"
    }
   ],
   "source": [
    "X = np.array([0, 1, 3, 5, 7, 9])\n",
    "Y = np.array([0, 2, 1, 4, 6, 3])\n",
    "\n",
    "num_samples = 100\n",
    "\n",
    "cumulative_distance = np.cumsum(np.sqrt(np.diff(X)**2 + np.diff(Y)**2))\n",
    "cumulative_distance = np.insert(cumulative_distance, 0, 0)  # Insert 0 at the beginning\n",
    "\n",
    "equidistant_samples = np.linspace(0, cumulative_distance[-1], num_samples)\n",
    "\n",
    "equidistant_X = np.interp(equidistant_samples, cumulative_distance, X)\n",
    "equidistant_Y = np.interp(equidistant_samples, cumulative_distance, Y)\n",
    "\n",
    "plt.plot(X, Y, label='Original Path')\n",
    "plt.scatter(equidistant_X, equidistant_Y, color='red', label='Equidistant Samples')\n",
    "plt.xlabel('X')\n",
    "plt.ylabel('Y')\n",
    "plt.legend()\n",
    "plt.show()"
   ]
  },
  {
   "cell_type": "markdown",
   "id": "340d6f36",
   "metadata": {},
   "source": [
    "#### 99. Given an integer n and a 2D array X, select from X the rows which can be interpreted as draws from a multinomial distribution with n degrees, i.e., the rows which only contain integers and which sum to n. (★★★)"
   ]
  },
  {
   "cell_type": "code",
   "execution_count": 98,
   "id": "a75323ae",
   "metadata": {},
   "outputs": [
    {
     "name": "stdout",
     "output_type": "stream",
     "text": [
      "Original 2D Array X:\n",
      "[[1 2 3]\n",
      " [4 2 0]\n",
      " [2 2 6]\n",
      " [3 3 3]]\n",
      "\n",
      "Rows representing draws from a multinomial distribution with 6 degrees:\n",
      "[[1 2 3]\n",
      " [4 2 0]]\n"
     ]
    }
   ],
   "source": [
    "def is_multinomial_row(row, n):\n",
    "   return np.all(np.equal(np.mod(row, 1), 0)) and np.sum(row) == n\n",
    "\n",
    "X = np.array([[1, 2, 3],\n",
    "            [4, 2, 0],\n",
    "            [2, 2, 6],\n",
    "            [3, 3, 3]])\n",
    "\n",
    "n = 6\n",
    "\n",
    "selected_rows = X[np.array([is_multinomial_row(row, n) for row in X])]\n",
    "\n",
    "print(\"Original 2D Array X:\")\n",
    "print(X)\n",
    "\n",
    "print(f\"\\nRows representing draws from a multinomial distribution with {n} degrees:\")\n",
    "print(selected_rows)"
   ]
  },
  {
   "cell_type": "markdown",
   "id": "19721849",
   "metadata": {},
   "source": [
    "#### 100. Compute bootstrapped 95% confidence intervals for the mean of a 1D array X (i.e., resample the elements of an array with replacement N times, compute the mean of each sample, and then compute percentiles over the means). (★★★)"
   ]
  },
  {
   "cell_type": "code",
   "execution_count": 107,
   "id": "87309c6f",
   "metadata": {},
   "outputs": [
    {
     "name": "stdout",
     "output_type": "stream",
     "text": [
      "1D Array X:\n",
      "[ 1  2  3  4  5  6  7  8  9 10]\n",
      "\n",
      "Bootstrapped 95% Confidence Interval for the Mean:\n",
      "Lower Bound: 3.7000\n",
      "Upper Bound: 7.3000\n"
     ]
    }
   ],
   "source": [
    "def bootstrap_confidence_interval(X, num_samples=1000, alpha=0.05):\n",
    "   means = []\n",
    "\n",
    "   for _ in range(num_samples):\n",
    "\n",
    "      bootstrap_sample = np.random.choice(X, len(X), replace=True)\n",
    "\n",
    "      sample_mean = np.mean(bootstrap_sample)\n",
    "      means.append(sample_mean)\n",
    "\n",
    "   lower_bound = np.percentile(means, 100 * alpha / 2)\n",
    "   upper_bound = np.percentile(means, 100 * (1 - alpha / 2))\n",
    "\n",
    "   return lower_bound, upper_bound\n",
    "\n",
    "X = np.array([1, 2, 3, 4, 5, 6, 7, 8, 9, 10])\n",
    "\n",
    "lower_bound, upper_bound = bootstrap_confidence_interval(X)\n",
    "\n",
    "print(\"1D Array X:\")\n",
    "print(X)\n",
    "\n",
    "print(\"\\nBootstrapped 95% Confidence Interval for the Mean:\")\n",
    "print(f\"Lower Bound: {lower_bound:.4f}\")\n",
    "print(f\"Upper Bound: {upper_bound:.4f}\")"
   ]
  }
 ],
 "metadata": {
  "kernelspec": {
   "display_name": "Python 3",
   "language": "python",
   "name": "python3"
  },
  "language_info": {
   "codemirror_mode": {
    "name": "ipython",
    "version": 3
   },
   "file_extension": ".py",
   "mimetype": "text/x-python",
   "name": "python",
   "nbconvert_exporter": "python",
   "pygments_lexer": "ipython3",
   "version": "3.11.7"
  }
 },
 "nbformat": 4,
 "nbformat_minor": 5
}
